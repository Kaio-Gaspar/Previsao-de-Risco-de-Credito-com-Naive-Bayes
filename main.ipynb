{
 "cells": [
  {
   "cell_type": "code",
   "execution_count": 464,
   "metadata": {},
   "outputs": [],
   "source": [
    "#!pip install plotly --upgrade\n",
    "#!pip install seaborn\n",
    "#!pip install nbformat\n",
    "#!pip install --upgrade nbformat\n",
    "\n"
   ]
  },
  {
   "cell_type": "code",
   "execution_count": 465,
   "metadata": {},
   "outputs": [],
   "source": [
    "import pandas as pd\n",
    "import numpy as nb\n",
    "import seaborn as sns\n",
    "import plotly.express as px\n",
    "import numpy as np\n",
    "from IPython.display import display"
   ]
  },
  {
   "cell_type": "code",
   "execution_count": 466,
   "metadata": {},
   "outputs": [
    {
     "data": {
      "text/plain": [
       "Unnamed: 0            0\n",
       "Age                   0\n",
       "Sex                   0\n",
       "Job                   0\n",
       "Housing               0\n",
       "Saving accounts     183\n",
       "Checking account    394\n",
       "Credit amount         0\n",
       "Duration              0\n",
       "Purpose               0\n",
       "Risk                  0\n",
       "dtype: int64"
      ]
     },
     "execution_count": 466,
     "metadata": {},
     "output_type": "execute_result"
    }
   ],
   "source": [
    "base = pd.read_csv('german_credit_data.csv')\n",
    "base.isnull().sum()\n",
    "\n",
    "\n"
   ]
  },
  {
   "cell_type": "code",
   "execution_count": 467,
   "metadata": {},
   "outputs": [],
   "source": [
    "base.dropna(inplace=True)"
   ]
  },
  {
   "cell_type": "code",
   "execution_count": 468,
   "metadata": {},
   "outputs": [
    {
     "data": {
      "text/html": [
       "<div>\n",
       "<style scoped>\n",
       "    .dataframe tbody tr th:only-of-type {\n",
       "        vertical-align: middle;\n",
       "    }\n",
       "\n",
       "    .dataframe tbody tr th {\n",
       "        vertical-align: top;\n",
       "    }\n",
       "\n",
       "    .dataframe thead th {\n",
       "        text-align: right;\n",
       "    }\n",
       "</style>\n",
       "<table border=\"1\" class=\"dataframe\">\n",
       "  <thead>\n",
       "    <tr style=\"text-align: right;\">\n",
       "      <th></th>\n",
       "      <th>Unnamed: 0</th>\n",
       "      <th>Age</th>\n",
       "      <th>Sex</th>\n",
       "      <th>Job</th>\n",
       "      <th>Housing</th>\n",
       "      <th>Saving accounts</th>\n",
       "      <th>Checking account</th>\n",
       "      <th>Credit amount</th>\n",
       "      <th>Duration</th>\n",
       "      <th>Purpose</th>\n",
       "      <th>Risk</th>\n",
       "    </tr>\n",
       "  </thead>\n",
       "  <tbody>\n",
       "    <tr>\n",
       "      <th>1</th>\n",
       "      <td>1</td>\n",
       "      <td>22</td>\n",
       "      <td>female</td>\n",
       "      <td>2</td>\n",
       "      <td>own</td>\n",
       "      <td>little</td>\n",
       "      <td>moderate</td>\n",
       "      <td>5951</td>\n",
       "      <td>48</td>\n",
       "      <td>radio/TV</td>\n",
       "      <td>bad</td>\n",
       "    </tr>\n",
       "    <tr>\n",
       "      <th>3</th>\n",
       "      <td>3</td>\n",
       "      <td>45</td>\n",
       "      <td>male</td>\n",
       "      <td>2</td>\n",
       "      <td>free</td>\n",
       "      <td>little</td>\n",
       "      <td>little</td>\n",
       "      <td>7882</td>\n",
       "      <td>42</td>\n",
       "      <td>furniture/equipment</td>\n",
       "      <td>good</td>\n",
       "    </tr>\n",
       "    <tr>\n",
       "      <th>4</th>\n",
       "      <td>4</td>\n",
       "      <td>53</td>\n",
       "      <td>male</td>\n",
       "      <td>2</td>\n",
       "      <td>free</td>\n",
       "      <td>little</td>\n",
       "      <td>little</td>\n",
       "      <td>4870</td>\n",
       "      <td>24</td>\n",
       "      <td>car</td>\n",
       "      <td>bad</td>\n",
       "    </tr>\n",
       "    <tr>\n",
       "      <th>7</th>\n",
       "      <td>7</td>\n",
       "      <td>35</td>\n",
       "      <td>male</td>\n",
       "      <td>3</td>\n",
       "      <td>rent</td>\n",
       "      <td>little</td>\n",
       "      <td>moderate</td>\n",
       "      <td>6948</td>\n",
       "      <td>36</td>\n",
       "      <td>car</td>\n",
       "      <td>good</td>\n",
       "    </tr>\n",
       "    <tr>\n",
       "      <th>9</th>\n",
       "      <td>9</td>\n",
       "      <td>28</td>\n",
       "      <td>male</td>\n",
       "      <td>3</td>\n",
       "      <td>own</td>\n",
       "      <td>little</td>\n",
       "      <td>moderate</td>\n",
       "      <td>5234</td>\n",
       "      <td>30</td>\n",
       "      <td>car</td>\n",
       "      <td>bad</td>\n",
       "    </tr>\n",
       "    <tr>\n",
       "      <th>10</th>\n",
       "      <td>10</td>\n",
       "      <td>25</td>\n",
       "      <td>female</td>\n",
       "      <td>2</td>\n",
       "      <td>rent</td>\n",
       "      <td>little</td>\n",
       "      <td>moderate</td>\n",
       "      <td>1295</td>\n",
       "      <td>12</td>\n",
       "      <td>car</td>\n",
       "      <td>bad</td>\n",
       "    </tr>\n",
       "    <tr>\n",
       "      <th>11</th>\n",
       "      <td>11</td>\n",
       "      <td>24</td>\n",
       "      <td>female</td>\n",
       "      <td>2</td>\n",
       "      <td>rent</td>\n",
       "      <td>little</td>\n",
       "      <td>little</td>\n",
       "      <td>4308</td>\n",
       "      <td>48</td>\n",
       "      <td>business</td>\n",
       "      <td>bad</td>\n",
       "    </tr>\n",
       "    <tr>\n",
       "      <th>12</th>\n",
       "      <td>12</td>\n",
       "      <td>22</td>\n",
       "      <td>female</td>\n",
       "      <td>2</td>\n",
       "      <td>own</td>\n",
       "      <td>little</td>\n",
       "      <td>moderate</td>\n",
       "      <td>1567</td>\n",
       "      <td>12</td>\n",
       "      <td>radio/TV</td>\n",
       "      <td>good</td>\n",
       "    </tr>\n",
       "    <tr>\n",
       "      <th>13</th>\n",
       "      <td>13</td>\n",
       "      <td>60</td>\n",
       "      <td>male</td>\n",
       "      <td>1</td>\n",
       "      <td>own</td>\n",
       "      <td>little</td>\n",
       "      <td>little</td>\n",
       "      <td>1199</td>\n",
       "      <td>24</td>\n",
       "      <td>car</td>\n",
       "      <td>bad</td>\n",
       "    </tr>\n",
       "    <tr>\n",
       "      <th>14</th>\n",
       "      <td>14</td>\n",
       "      <td>28</td>\n",
       "      <td>female</td>\n",
       "      <td>2</td>\n",
       "      <td>rent</td>\n",
       "      <td>little</td>\n",
       "      <td>little</td>\n",
       "      <td>1403</td>\n",
       "      <td>15</td>\n",
       "      <td>car</td>\n",
       "      <td>good</td>\n",
       "    </tr>\n",
       "  </tbody>\n",
       "</table>\n",
       "</div>"
      ],
      "text/plain": [
       "    Unnamed: 0  Age     Sex  Job Housing Saving accounts Checking account  \\\n",
       "1            1   22  female    2     own          little         moderate   \n",
       "3            3   45    male    2    free          little           little   \n",
       "4            4   53    male    2    free          little           little   \n",
       "7            7   35    male    3    rent          little         moderate   \n",
       "9            9   28    male    3     own          little         moderate   \n",
       "10          10   25  female    2    rent          little         moderate   \n",
       "11          11   24  female    2    rent          little           little   \n",
       "12          12   22  female    2     own          little         moderate   \n",
       "13          13   60    male    1     own          little           little   \n",
       "14          14   28  female    2    rent          little           little   \n",
       "\n",
       "    Credit amount  Duration              Purpose  Risk  \n",
       "1            5951        48             radio/TV   bad  \n",
       "3            7882        42  furniture/equipment  good  \n",
       "4            4870        24                  car   bad  \n",
       "7            6948        36                  car  good  \n",
       "9            5234        30                  car   bad  \n",
       "10           1295        12                  car   bad  \n",
       "11           4308        48             business   bad  \n",
       "12           1567        12             radio/TV  good  \n",
       "13           1199        24                  car   bad  \n",
       "14           1403        15                  car  good  "
      ]
     },
     "execution_count": 468,
     "metadata": {},
     "output_type": "execute_result"
    }
   ],
   "source": [
    "base.head(10)"
   ]
  },
  {
   "cell_type": "code",
   "execution_count": 469,
   "metadata": {},
   "outputs": [
    {
     "data": {
      "text/plain": [
       "<Axes: xlabel='Risk', ylabel='count'>"
      ]
     },
     "execution_count": 469,
     "metadata": {},
     "output_type": "execute_result"
    },
    {
     "data": {
      "image/png": "[encoded data removed]",
      "text/plain": [
       "<Figure size 640x480 with 1 Axes>"
      ]
     },
     "metadata": {},
     "output_type": "display_data"
    }
   ],
   "source": [
    "sns.countplot(x = base['Risk'])"
   ]
  },
  {
   "cell_type": "code",
   "execution_count": 470,
   "metadata": {},
   "outputs": [
    {
     "data": {
      "application/vnd.plotly.v1+json": {
       "config": {
        "plotlyServerURL": "https://plot.ly"
       },
       "data": [
        {
         "dimensions": [
          {
           "axis": {
            "matches": true
           },
           "label": "Age",
           "values": [
            22,
            53,
            28,
            25,
            24,
            60,
            32,
            44,
            63,
            25,
            37,
            58,
            57,
            23,
            61,
            25,
            34,
            47,
            28,
            58,
            39,
            23,
            25,
            30,
            29,
            29,
            66,
            22,
            20,
            33,
            31,
            33,
            34,
            26,
            30,
            36,
            74,
            20,
            34,
            36,
            21,
            34,
            27,
            40,
            21,
            50,
            66,
            27,
            53,
            26,
            30,
            61,
            24,
            24,
            29,
            37,
            45,
            28,
            34,
            48,
            28,
            26,
            42,
            33,
            24,
            25,
            31,
            28,
            32,
            24,
            23,
            44,
            32,
            29,
            28,
            23,
            23,
            25,
            42,
            60,
            37,
            57,
            38,
            46,
            22,
            28,
            33,
            55,
            29,
            26,
            30,
            34,
            61,
            31,
            35,
            29,
            22,
            23,
            28,
            33,
            26,
            47,
            42,
            29,
            27,
            38,
            24,
            34,
            26,
            24,
            53,
            31,
            28,
            33,
            42,
            23,
            34,
            43,
            24,
            34,
            22,
            28,
            27,
            31,
            24,
            36,
            31,
            23,
            27,
            30,
            33,
            20,
            47,
            60,
            20,
            32,
            23,
            36,
            30,
            34,
            50,
            22,
            48,
            21,
            65,
            29,
            44,
            25,
            26,
            27,
            38,
            40,
            37,
            45,
            42,
            41,
            43,
            24,
            46,
            24,
            25,
            35,
            27,
            34,
            24,
            24,
            25,
            59,
            21,
            23,
            26,
            37,
            23,
            35,
            24,
            31,
            25,
            25,
            23,
            50,
            27,
            39,
            24,
            26,
            24,
            54,
            46,
            26,
            41,
            33,
            23,
            29,
            25,
            48,
            29,
            57,
            33,
            32,
            29,
            35,
            27,
            43,
            53,
            23,
            42,
            43,
            25,
            31,
            32,
            68,
            33,
            39,
            22,
            55,
            46,
            39,
            22,
            30,
            28,
            42,
            30,
            24,
            28,
            45,
            23,
            29,
            36,
            25,
            49,
            26,
            23
           ]
          },
          {
           "axis": {
            "matches": true
           },
           "label": "Job",
           "values": [
            2,
            2,
            3,
            2,
            2,
            1,
            1,
            3,
            2,
            1,
            2,
            1,
            2,
            1,
            3,
            2,
            2,
            2,
            2,
            2,
            3,
            2,
            2,
            2,
            2,
            2,
            1,
            2,
            2,
            2,
            2,
            2,
            3,
            2,
            3,
            2,
            3,
            2,
            1,
            2,
            2,
            3,
            2,
            3,
            2,
            2,
            3,
            2,
            3,
            2,
            3,
            1,
            2,
            2,
            2,
            2,
            3,
            2,
            1,
            2,
            3,
            2,
            2,
            1,
            2,
            1,
            2,
            3,
            2,
            3,
            2,
            3,
            2,
            2,
            2,
            1,
            2,
            0,
            2,
            3,
            2,
            3,
            3,
            2,
            2,
            2,
            1,
            0,
            3,
            0,
            3,
            2,
            2,
            2,
            2,
            1,
            2,
            2,
            1,
            2,
            2,
            3,
            3,
            3,
            2,
            2,
            2,
            3,
            2,
            2,
            2,
            2,
            2,
            2,
            3,
            2,
            1,
            2,
            1,
            2,
            2,
            2,
            2,
            1,
            1,
            2,
            2,
            1,
            2,
            2,
            1,
            2,
            1,
            2,
            1,
            1,
            2,
            1,
            2,
            1,
            2,
            2,
            1,
            2,
            2,
            2,
            2,
            1,
            2,
            0,
            2,
            1,
            1,
            2,
            3,
            1,
            2,
            2,
            2,
            2,
            2,
            2,
            3,
            3,
            2,
            1,
            2,
            2,
            1,
            3,
            1,
            1,
            1,
            2,
            2,
            1,
            3,
            2,
            1,
            2,
            2,
            2,
            2,
            0,
            2,
            2,
            2,
            2,
            2,
            2,
            2,
            2,
            1,
            2,
            2,
            1,
            2,
            1,
            2,
            2,
            3,
            2,
            2,
            2,
            2,
            2,
            1,
            2,
            3,
            3,
            2,
            3,
            2,
            2,
            2,
            2,
            2,
            3,
            1,
            2,
            2,
            2,
            2,
            1,
            1,
            0,
            2,
            2,
            2,
            2,
            2
           ]
          },
          {
           "axis": {
            "matches": true
           },
           "label": "Credit amount",
           "values": [
            5951,
            4870,
            5234,
            1295,
            4308,
            1199,
            1282,
            12579,
            6836,
            4746,
            2100,
            6143,
            2225,
            6229,
            1953,
            14421,
            3965,
            12612,
            1108,
            15945,
            11938,
            4281,
            1835,
            639,
            3499,
            6887,
            766,
            2462,
            1282,
            1131,
            1935,
            950,
            2064,
            3414,
            4455,
            884,
            5129,
            674,
            3844,
            3915,
            3031,
            1501,
            951,
            4297,
            902,
            5293,
            1908,
            10961,
            7865,
            4210,
            1823,
            2767,
            4605,
            2150,
            2149,
            802,
            8978,
            3060,
            11998,
            1024,
            9398,
            9960,
            3804,
            727,
            1237,
            685,
            2746,
            4249,
            1938,
            7408,
            4110,
            3384,
            1136,
            959,
            6199,
            1246,
            2406,
            2473,
            3446,
            14782,
            7685,
            14318,
            12976,
            1223,
            2039,
            939,
            2579,
            1190,
            11328,
            609,
            5096,
            1842,
            1512,
            4817,
            3386,
            1659,
            3092,
            448,
            654,
            1245,
            3114,
            1209,
            8318,
            9034,
            3123,
            1216,
            1207,
            6850,
            759,
            3190,
            7119,
            2302,
            2631,
            2319,
            7763,
            1534,
            2864,
            1333,
            626,
            6999,
            1331,
            2278,
            3552,
            1928,
            1546,
            1372,
            6758,
            3234,
            2820,
            1056,
            2384,
            2039,
            1217,
            2246,
            2718,
            931,
            1442,
            4241,
            918,
            1837,
            2671,
            741,
            1240,
            3441,
            2600,
            1437,
            1553,
            1355,
            4370,
            750,
            947,
            684,
            1922,
            2303,
            8086,
            888,
            4843,
            5595,
            6331,
            6560,
            2969,
            1198,
            14027,
            1337,
            433,
            1228,
            1882,
            6416,
            1987,
            11560,
            4280,
            1274,
            976,
            691,
            2124,
            3108,
            8065,
            4933,
            836,
            6224,
            5998,
            1188,
            9271,
            1778,
            9629,
            3051,
            3931,
            1345,
            2712,
            3966,
            1216,
            11816,
            2327,
            1082,
            5179,
            709,
            2235,
            1442,
            3959,
            2439,
            1422,
            4057,
            795,
            15672,
            4153,
            2625,
            4736,
            3161,
            18424,
            14896,
            2359,
            3345,
            1366,
            6872,
            697,
            10297,
            1670,
            1919,
            745,
            6288,
            3349,
            2145,
            4113,
            4006,
            2520,
            1193,
            7297,
            1264,
            8386,
            8229,
            1845
           ]
          }
         ],
         "hovertemplate": "Risk=bad<br>%{xaxis.title.text}=%{x}<br>%{yaxis.title.text}=%{y}<extra></extra>",
         "legendgroup": "bad",
         "marker": {
          "color": "#636efa",
          "symbol": "circle"
         },
         "name": "bad",
         "showlegend": true,
         "type": "splom"
        },
        {
         "dimensions": [
          {
           "axis": {
            "matches": true
           },
           "label": "Age",
           "values": [
            45,
            35,
            22,
            28,
            44,
            48,
            44,
            36,
            42,
            34,
            36,
            27,
            30,
            33,
            37,
            24,
            26,
            44,
            24,
            23,
            30,
            23,
            27,
            22,
            51,
            41,
            66,
            51,
            22,
            58,
            52,
            27,
            30,
            54,
            54,
            34,
            36,
            24,
            35,
            32,
            35,
            31,
            23,
            28,
            35,
            36,
            63,
            30,
            40,
            34,
            44,
            27,
            30,
            27,
            30,
            39,
            28,
            24,
            29,
            36,
            48,
            45,
            38,
            70,
            20,
            33,
            42,
            52,
            65,
            68,
            33,
            27,
            38,
            26,
            21,
            31,
            23,
            24,
            26,
            22,
            25,
            39,
            26,
            39,
            46,
            27,
            55,
            36,
            37,
            35,
            26,
            31,
            49,
            44,
            56,
            32,
            49,
            22,
            26,
            38,
            27,
            34,
            28,
            39,
            31,
            28,
            75,
            23,
            28,
            31,
            24,
            26,
            25,
            33,
            37,
            23,
            23,
            36,
            22,
            40,
            26,
            40,
            27,
            19,
            39,
            31,
            32,
            55,
            46,
            27,
            20,
            47,
            21,
            36,
            25,
            65,
            30,
            29,
            35,
            36,
            27,
            37,
            36,
            34,
            63,
            25,
            39,
            44,
            23,
            26,
            57,
            39,
            32,
            28,
            42,
            49,
            36,
            26,
            20,
            37,
            40,
            43,
            26,
            30,
            41,
            32,
            37,
            45,
            27,
            67,
            29,
            23,
            22,
            27,
            27,
            49,
            36,
            21,
            58,
            45,
            23,
            22,
            29,
            22,
            37,
            27,
            22,
            41,
            28,
            38,
            32,
            32,
            50,
            22,
            28,
            41,
            23,
            35,
            50,
            34,
            47,
            64,
            31,
            30,
            31,
            25,
            25,
            29,
            29,
            40,
            47,
            41,
            32,
            25,
            37,
            25,
            31,
            66,
            36,
            33,
            44,
            35,
            32,
            23,
            22,
            28,
            23,
            49,
            23,
            74,
            24,
            40,
            28,
            66,
            25,
            67,
            31,
            35,
            51,
            48,
            24,
            26,
            55,
            26,
            28,
            54,
            43,
            24,
            47,
            30,
            63,
            59,
            27,
            24,
            46,
            26,
            29,
            40,
            36,
            43,
            38,
            34,
            28,
            20,
            30,
            21,
            43,
            24,
            23,
            30,
            46,
            30,
            40,
            29,
            57,
            37,
            30,
            47,
            22,
            40,
            22,
            57,
            64,
            28,
            25,
            33,
            29,
            48,
            30,
            40,
            27
           ]
          },
          {
           "axis": {
            "matches": true
           },
           "label": "Job",
           "values": [
            2,
            3,
            2,
            2,
            2,
            1,
            2,
            1,
            2,
            2,
            2,
            2,
            2,
            3,
            2,
            2,
            2,
            1,
            2,
            0,
            3,
            3,
            2,
            2,
            3,
            1,
            3,
            2,
            2,
            1,
            1,
            2,
            3,
            2,
            2,
            2,
            2,
            2,
            2,
            2,
            2,
            2,
            2,
            1,
            2,
            3,
            2,
            2,
            1,
            3,
            1,
            0,
            3,
            3,
            2,
            2,
            2,
            2,
            2,
            3,
            2,
            1,
            2,
            3,
            2,
            2,
            2,
            2,
            2,
            0,
            2,
            1,
            3,
            2,
            1,
            2,
            2,
            1,
            1,
            2,
            1,
            2,
            2,
            1,
            1,
            2,
            2,
            3,
            2,
            1,
            2,
            3,
            2,
            3,
            2,
            2,
            2,
            1,
            2,
            1,
            1,
            3,
            2,
            1,
            2,
            2,
            3,
            1,
            2,
            1,
            2,
            1,
            2,
            3,
            1,
            2,
            0,
            2,
            2,
            2,
            2,
            3,
            2,
            1,
            3,
            2,
            2,
            3,
            2,
            2,
            2,
            1,
            2,
            3,
            2,
            0,
            2,
            2,
            2,
            2,
            2,
            2,
            2,
            3,
            2,
            2,
            1,
            2,
            1,
            2,
            2,
            1,
            1,
            2,
            2,
            2,
            2,
            2,
            2,
            2,
            1,
            2,
            1,
            2,
            1,
            2,
            2,
            1,
            2,
            3,
            2,
            2,
            1,
            1,
            2,
            1,
            2,
            1,
            1,
            2,
            2,
            2,
            2,
            2,
            2,
            2,
            2,
            2,
            2,
            1,
            3,
            2,
            3,
            2,
            2,
            2,
            2,
            3,
            1,
            2,
            2,
            1,
            1,
            2,
            2,
            2,
            1,
            2,
            2,
            3,
            2,
            2,
            2,
            2,
            1,
            1,
            2,
            1,
            2,
            2,
            1,
            1,
            2,
            1,
            2,
            1,
            2,
            2,
            1,
            0,
            1,
            1,
            2,
            0,
            2,
            2,
            1,
            1,
            2,
            1,
            2,
            1,
            3,
            2,
            1,
            2,
            3,
            2,
            1,
            2,
            2,
            2,
            2,
            2,
            2,
            2,
            1,
            2,
            3,
            3,
            1,
            2,
            3,
            3,
            2,
            2,
            1,
            1,
            2,
            3,
            2,
            2,
            0,
            2,
            3,
            1,
            2,
            2,
            1,
            1,
            2,
            1,
            2,
            3,
            2,
            2,
            3,
            1,
            3,
            3,
            2
           ]
          },
          {
           "axis": {
            "matches": true
           },
           "label": "Credit amount",
           "values": [
            7882,
            6948,
            1567,
            1403,
            2647,
            2241,
            1804,
            1374,
            409,
            2415,
            1913,
            4020,
            5866,
            1474,
            1225,
            458,
            1158,
            6204,
            6187,
            1352,
            5965,
            1961,
            1391,
            1007,
            1164,
            5954,
            1526,
            4771,
            3832,
            1755,
            2315,
            1295,
            2249,
            1409,
            1318,
            2622,
            2337,
            2323,
            1919,
            6078,
            1410,
            1449,
            392,
            6260,
            1680,
            2366,
            781,
            2121,
            701,
            1860,
            1881,
            709,
            4795,
            3416,
            3566,
            860,
            5371,
            5848,
            7758,
            6967,
            1288,
            339,
            3512,
            7308,
            1577,
            1414,
            2577,
            338,
            571,
            1175,
            3244,
            1168,
            10623,
            1424,
            6568,
            3104,
            3913,
            3021,
            625,
            3149,
            866,
            2522,
            1925,
            666,
            2251,
            1657,
            1603,
            5302,
            3878,
            10722,
            4788,
            7582,
            1092,
            6419,
            4796,
            2745,
            1038,
            276,
            3749,
            708,
            3643,
            2910,
            2659,
            3398,
            4473,
            1068,
            6615,
            2101,
            4169,
            1521,
            5743,
            3599,
            3213,
            4439,
            3949,
            882,
            3758,
            2247,
            3650,
            3001,
            1330,
            7374,
            2326,
            983,
            3249,
            1957,
            11760,
            2578,
            2348,
            1053,
            1967,
            958,
            2779,
            1872,
            2136,
            3394,
            1620,
            2629,
            2576,
            3905,
            343,
            3620,
            1721,
            3017,
            2924,
            5152,
            1037,
            1478,
            3573,
            1201,
            3622,
            2122,
            1301,
            1323,
            5493,
            1126,
            2360,
            2687,
            585,
            609,
            1361,
            1203,
            1113,
            7966,
            662,
            2273,
            3612,
            3049,
            1995,
            1199,
            683,
            1553,
            806,
            1082,
            2930,
            3124,
            2799,
            1289,
            385,
            2329,
            1275,
            2828,
            3357,
            3632,
            3676,
            3652,
            1858,
            2116,
            3660,
            1308,
            1880,
            4583,
            7476,
            3973,
            4221,
            6361,
            1297,
            1050,
            1047,
            3496,
            3017,
            2384,
            9857,
            2862,
            3651,
            975,
            2631,
            2896,
            1103,
            1905,
            1377,
            2503,
            2528,
            1206,
            2118,
            1138,
            6148,
            790,
            1275,
            6403,
            760,
            4380,
            2325,
            1048,
            2483,
            1797,
            2511,
            428,
            841,
            1299,
            2214,
            1155,
            3617,
            1480,
            3509,
            3872,
            1410,
            1941,
            2892,
            1795,
            4272,
            590,
            9283,
            907,
            484,
            7432,
            15857,
            3016,
            731,
            1602,
            2957,
            1364,
            2389,
            652,
            1343,
            1382,
            3590,
            1322,
            1940,
            2442,
            2171,
            5800,
            2606,
            1107,
            2002,
            1049,
            1344,
            1747,
            1498,
            2063,
            1845,
            8358,
            3590,
            1893,
            1231,
            1154,
            3069,
            2353,
            454,
            3939,
            1514,
            1258,
            753,
            2923,
            1433,
            6289,
            6579,
            1743,
            3959,
            3857,
            4576
           ]
          }
         ],
         "hovertemplate": "Risk=good<br>%{xaxis.title.text}=%{x}<br>%{yaxis.title.text}=%{y}<extra></extra>",
         "legendgroup": "good",
         "marker": {
          "color": "#EF553B",
          "symbol": "circle"
         },
         "name": "good",
         "showlegend": true,
         "type": "splom"
        }
       ],
       "layout": {
        "dragmode": "select",
        "legend": {
         "title": {
          "text": "Risk"
         },
         "tracegroupgap": 0
        },
        "margin": {
         "t": 60
        },
        "template": {
         "data": {
          "bar": [
           {
            "error_x": {
             "color": "#2a3f5f"
            },
            "error_y": {
             "color": "#2a3f5f"
            },
            "marker": {
             "line": {
              "color": "#E5ECF6",
              "width": 0.5
             },
             "pattern": {
              "fillmode": "overlay",
              "size": 10,
              "solidity": 0.2
             }
            },
            "type": "bar"
           }
          ],
          "barpolar": [
           {
            "marker": {
             "line": {
              "color": "#E5ECF6",
              "width": 0.5
             },
             "pattern": {
              "fillmode": "overlay",
              "size": 10,
              "solidity": 0.2
             }
            },
            "type": "barpolar"
           }
          ],
          "carpet": [
           {
            "aaxis": {
             "endlinecolor": "#2a3f5f",
             "gridcolor": "white",
             "linecolor": "white",
             "minorgridcolor": "white",
             "startlinecolor": "#2a3f5f"
            },
            "baxis": {
             "endlinecolor": "#2a3f5f",
             "gridcolor": "white",
             "linecolor": "white",
             "minorgridcolor": "white",
             "startlinecolor": "#2a3f5f"
            },
            "type": "carpet"
           }
          ],
          "choropleth": [
           {
            "colorbar": {
             "outlinewidth": 0,
             "ticks": ""
            },
            "type": "choropleth"
           }
          ],
          "contour": [
           {
            "colorbar": {
             "outlinewidth": 0,
             "ticks": ""
            },
            "colorscale": [
             [
              0,
              "#0d0887"
             ],
             [
              0.1111111111111111,
              "#46039f"
             ],
             [
              0.2222222222222222,
              "#7201a8"
             ],
             [
              0.3333333333333333,
              "#9c179e"
             ],
             [
              0.4444444444444444,
              "#bd3786"
             ],
             [
              0.5555555555555556,
              "#d8576b"
             ],
             [
              0.6666666666666666,
              "#ed7953"
             ],
             [
              0.7777777777777778,
              "#fb9f3a"
             ],
             [
              0.8888888888888888,
              "#fdca26"
             ],
             [
              1,
              "#f0f921"
             ]
            ],
            "type": "contour"
           }
          ],
          "contourcarpet": [
           {
            "colorbar": {
             "outlinewidth": 0,
             "ticks": ""
            },
            "type": "contourcarpet"
           }
          ],
          "heatmap": [
           {
            "colorbar": {
             "outlinewidth": 0,
             "ticks": ""
            },
            "colorscale": [
             [
              0,
              "#0d0887"
             ],
             [
              0.1111111111111111,
              "#46039f"
             ],
             [
              0.2222222222222222,
              "#7201a8"
             ],
             [
              0.3333333333333333,
              "#9c179e"
             ],
             [
              0.4444444444444444,
              "#bd3786"
             ],
             [
              0.5555555555555556,
              "#d8576b"
             ],
             [
              0.6666666666666666,
              "#ed7953"
             ],
             [
              0.7777777777777778,
              "#fb9f3a"
             ],
             [
              0.8888888888888888,
              "#fdca26"
             ],
             [
              1,
              "#f0f921"
             ]
            ],
            "type": "heatmap"
           }
          ],
          "heatmapgl": [
           {
            "colorbar": {
             "outlinewidth": 0,
             "ticks": ""
            },
            "colorscale": [
             [
              0,
              "#0d0887"
             ],
             [
              0.1111111111111111,
              "#46039f"
             ],
             [
              0.2222222222222222,
              "#7201a8"
             ],
             [
              0.3333333333333333,
              "#9c179e"
             ],
             [
              0.4444444444444444,
              "#bd3786"
             ],
             [
              0.5555555555555556,
              "#d8576b"
             ],
             [
              0.6666666666666666,
              "#ed7953"
             ],
             [
              0.7777777777777778,
              "#fb9f3a"
             ],
             [
              0.8888888888888888,
              "#fdca26"
             ],
             [
              1,
              "#f0f921"
             ]
            ],
            "type": "heatmapgl"
           }
          ],
          "histogram": [
           {
            "marker": {
             "pattern": {
              "fillmode": "overlay",
              "size": 10,
              "solidity": 0.2
             }
            },
            "type": "histogram"
           }
          ],
          "histogram2d": [
           {
            "colorbar": {
             "outlinewidth": 0,
             "ticks": ""
            },
            "colorscale": [
             [
              0,
              "#0d0887"
             ],
             [
              0.1111111111111111,
              "#46039f"
             ],
             [
              0.2222222222222222,
              "#7201a8"
             ],
             [
              0.3333333333333333,
              "#9c179e"
             ],
             [
              0.4444444444444444,
              "#bd3786"
             ],
             [
              0.5555555555555556,
              "#d8576b"
             ],
             [
              0.6666666666666666,
              "#ed7953"
             ],
             [
              0.7777777777777778,
              "#fb9f3a"
             ],
             [
              0.8888888888888888,
              "#fdca26"
             ],
             [
              1,
              "#f0f921"
             ]
            ],
            "type": "histogram2d"
           }
          ],
          "histogram2dcontour": [
           {
            "colorbar": {
             "outlinewidth": 0,
             "ticks": ""
            },
            "colorscale": [
             [
              0,
              "#0d0887"
             ],
             [
              0.1111111111111111,
              "#46039f"
             ],
             [
              0.2222222222222222,
              "#7201a8"
             ],
             [
              0.3333333333333333,
              "#9c179e"
             ],
             [
              0.4444444444444444,
              "#bd3786"
             ],
             [
              0.5555555555555556,
              "#d8576b"
             ],
             [
              0.6666666666666666,
              "#ed7953"
             ],
             [
              0.7777777777777778,
              "#fb9f3a"
             ],
             [
              0.8888888888888888,
              "#fdca26"
             ],
             [
              1,
              "#f0f921"
             ]
            ],
            "type": "histogram2dcontour"
           }
          ],
          "mesh3d": [
           {
            "colorbar": {
             "outlinewidth": 0,
             "ticks": ""
            },
            "type": "mesh3d"
           }
          ],
          "parcoords": [
           {
            "line": {
             "colorbar": {
              "outlinewidth": 0,
              "ticks": ""
             }
            },
            "type": "parcoords"
           }
          ],
          "pie": [
           {
            "automargin": true,
            "type": "pie"
           }
          ],
          "scatter": [
           {
            "fillpattern": {
             "fillmode": "overlay",
             "size": 10,
             "solidity": 0.2
            },
            "type": "scatter"
           }
          ],
          "scatter3d": [
           {
            "line": {
             "colorbar": {
              "outlinewidth": 0,
              "ticks": ""
             }
            },
            "marker": {
             "colorbar": {
              "outlinewidth": 0,
              "ticks": ""
             }
            },
            "type": "scatter3d"
           }
          ],
          "scattercarpet": [
           {
            "marker": {
             "colorbar": {
              "outlinewidth": 0,
              "ticks": ""
             }
            },
            "type": "scattercarpet"
           }
          ],
          "scattergeo": [
           {
            "marker": {
             "colorbar": {
              "outlinewidth": 0,
              "ticks": ""
             }
            },
            "type": "scattergeo"
           }
          ],
          "scattergl": [
           {
            "marker": {
             "colorbar": {
              "outlinewidth": 0,
              "ticks": ""
             }
            },
            "type": "scattergl"
           }
          ],
          "scattermapbox": [
           {
            "marker": {
             "colorbar": {
              "outlinewidth": 0,
              "ticks": ""
             }
            },
            "type": "scattermapbox"
           }
          ],
          "scatterpolar": [
           {
            "marker": {
             "colorbar": {
              "outlinewidth": 0,
              "ticks": ""
             }
            },
            "type": "scatterpolar"
           }
          ],
          "scatterpolargl": [
           {
            "marker": {
             "colorbar": {
              "outlinewidth": 0,
              "ticks": ""
             }
            },
            "type": "scatterpolargl"
           }
          ],
          "scatterternary": [
           {
            "marker": {
             "colorbar": {
              "outlinewidth": 0,
              "ticks": ""
             }
            },
            "type": "scatterternary"
           }
          ],
          "surface": [
           {
            "colorbar": {
             "outlinewidth": 0,
             "ticks": ""
            },
            "colorscale": [
             [
              0,
              "#0d0887"
             ],
             [
              0.1111111111111111,
              "#46039f"
             ],
             [
              0.2222222222222222,
              "#7201a8"
             ],
             [
              0.3333333333333333,
              "#9c179e"
             ],
             [
              0.4444444444444444,
              "#bd3786"
             ],
             [
              0.5555555555555556,
              "#d8576b"
             ],
             [
              0.6666666666666666,
              "#ed7953"
             ],
             [
              0.7777777777777778,
              "#fb9f3a"
             ],
             [
              0.8888888888888888,
              "#fdca26"
             ],
             [
              1,
              "#f0f921"
             ]
            ],
            "type": "surface"
           }
          ],
          "table": [
           {
            "cells": {
             "fill": {
              "color": "#EBF0F8"
             },
             "line": {
              "color": "white"
             }
            },
            "header": {
             "fill": {
              "color": "#C8D4E3"
             },
             "line": {
              "color": "white"
             }
            },
            "type": "table"
           }
          ]
         },
         "layout": {
          "annotationdefaults": {
           "arrowcolor": "#2a3f5f",
           "arrowhead": 0,
           "arrowwidth": 1
          },
          "autotypenumbers": "strict",
          "coloraxis": {
           "colorbar": {
            "outlinewidth": 0,
            "ticks": ""
           }
          },
          "colorscale": {
           "diverging": [
            [
             0,
             "#8e0152"
            ],
            [
             0.1,
             "#c51b7d"
            ],
            [
             0.2,
             "#de77ae"
            ],
            [
             0.3,
             "#f1b6da"
            ],
            [
             0.4,
             "#fde0ef"
            ],
            [
             0.5,
             "#f7f7f7"
            ],
            [
             0.6,
             "#e6f5d0"
            ],
            [
             0.7,
             "#b8e186"
            ],
            [
             0.8,
             "#7fbc41"
            ],
            [
             0.9,
             "#4d9221"
            ],
            [
             1,
             "#276419"
            ]
           ],
           "sequential": [
            [
             0,
             "#0d0887"
            ],
            [
             0.1111111111111111,
             "#46039f"
            ],
            [
             0.2222222222222222,
             "#7201a8"
            ],
            [
             0.3333333333333333,
             "#9c179e"
            ],
            [
             0.4444444444444444,
             "#bd3786"
            ],
            [
             0.5555555555555556,
             "#d8576b"
            ],
            [
             0.6666666666666666,
             "#ed7953"
            ],
            [
             0.7777777777777778,
             "#fb9f3a"
            ],
            [
             0.8888888888888888,
             "#fdca26"
            ],
            [
             1,
             "#f0f921"
            ]
           ],
           "sequentialminus": [
            [
             0,
             "#0d0887"
            ],
            [
             0.1111111111111111,
             "#46039f"
            ],
            [
             0.2222222222222222,
             "#7201a8"
            ],
            [
             0.3333333333333333,
             "#9c179e"
            ],
            [
             0.4444444444444444,
             "#bd3786"
            ],
            [
             0.5555555555555556,
             "#d8576b"
            ],
            [
             0.6666666666666666,
             "#ed7953"
            ],
            [
             0.7777777777777778,
             "#fb9f3a"
            ],
            [
             0.8888888888888888,
             "#fdca26"
            ],
            [
             1,
             "#f0f921"
            ]
           ]
          },
          "colorway": [
           "#636efa",
           "#EF553B",
           "#00cc96",
           "#ab63fa",
           "#FFA15A",
           "#19d3f3",
           "#FF6692",
           "#B6E880",
           "#FF97FF",
           "#FECB52"
          ],
          "font": {
           "color": "#2a3f5f"
          },
          "geo": {
           "bgcolor": "white",
           "lakecolor": "white",
           "landcolor": "#E5ECF6",
           "showlakes": true,
           "showland": true,
           "subunitcolor": "white"
          },
          "hoverlabel": {
           "align": "left"
          },
          "hovermode": "closest",
          "mapbox": {
           "style": "light"
          },
          "paper_bgcolor": "white",
          "plot_bgcolor": "#E5ECF6",
          "polar": {
           "angularaxis": {
            "gridcolor": "white",
            "linecolor": "white",
            "ticks": ""
           },
           "bgcolor": "#E5ECF6",
           "radialaxis": {
            "gridcolor": "white",
            "linecolor": "white",
            "ticks": ""
           }
          },
          "scene": {
           "xaxis": {
            "backgroundcolor": "#E5ECF6",
            "gridcolor": "white",
            "gridwidth": 2,
            "linecolor": "white",
            "showbackground": true,
            "ticks": "",
            "zerolinecolor": "white"
           },
           "yaxis": {
            "backgroundcolor": "#E5ECF6",
            "gridcolor": "white",
            "gridwidth": 2,
            "linecolor": "white",
            "showbackground": true,
            "ticks": "",
            "zerolinecolor": "white"
           },
           "zaxis": {
            "backgroundcolor": "#E5ECF6",
            "gridcolor": "white",
            "gridwidth": 2,
            "linecolor": "white",
            "showbackground": true,
            "ticks": "",
            "zerolinecolor": "white"
           }
          },
          "shapedefaults": {
           "line": {
            "color": "#2a3f5f"
           }
          },
          "ternary": {
           "aaxis": {
            "gridcolor": "white",
            "linecolor": "white",
            "ticks": ""
           },
           "baxis": {
            "gridcolor": "white",
            "linecolor": "white",
            "ticks": ""
           },
           "bgcolor": "#E5ECF6",
           "caxis": {
            "gridcolor": "white",
            "linecolor": "white",
            "ticks": ""
           }
          },
          "title": {
           "x": 0.05
          },
          "xaxis": {
           "automargin": true,
           "gridcolor": "white",
           "linecolor": "white",
           "ticks": "",
           "title": {
            "standoff": 15
           },
           "zerolinecolor": "white",
           "zerolinewidth": 2
          },
          "yaxis": {
           "automargin": true,
           "gridcolor": "white",
           "linecolor": "white",
           "ticks": "",
           "title": {
            "standoff": 15
           },
           "zerolinecolor": "white",
           "zerolinewidth": 2
          }
         }
        }
       }
      }
     },
     "metadata": {},
     "output_type": "display_data"
    }
   ],
   "source": [
    "grafico = px.scatter_matrix(base, dimensions=['Age', 'Job', 'Credit amount'], color='Risk');\n",
    "display(grafico);"
   ]
  },
  {
   "cell_type": "code",
   "execution_count": 471,
   "metadata": {},
   "outputs": [
    {
     "data": {
      "application/vnd.plotly.v1+json": {
       "config": {
        "plotlyServerURL": "https://plot.ly"
       },
       "data": [
        {
         "dimensions": [
          {
           "axis": {
            "matches": true
           },
           "label": "Credit amount",
           "values": [
            5951,
            5234,
            1567,
            1199,
            1282,
            1804,
            1374,
            2415,
            6836,
            1913,
            4020,
            5866,
            1474,
            4746,
            2100,
            1225,
            458,
            1158,
            6204,
            5965,
            1961,
            1391,
            14421,
            1007,
            5954,
            3965,
            4771,
            3832,
            1755,
            2315,
            1295,
            2249,
            1108,
            1409,
            1318,
            2622,
            2337,
            11938,
            6078,
            1410,
            1449,
            1680,
            4281,
            2366,
            1835,
            2121,
            701,
            639,
            1860,
            3499,
            6887,
            766,
            709,
            4795,
            3416,
            2462,
            3566,
            860,
            5371,
            5848,
            1288,
            339,
            3512,
            1131,
            1577,
            1935,
            2064,
            1414,
            3414,
            2577,
            338,
            571,
            4455,
            884,
            674,
            3244,
            3915,
            1501,
            4297,
            1168,
            1424,
            6568,
            5293,
            1908,
            3104,
            3913,
            625,
            10961,
            4210,
            866,
            1823,
            2522,
            1925,
            666,
            2251,
            2150,
            1657,
            1603,
            802,
            8978,
            3060,
            11998,
            3878,
            10722,
            4788,
            1092,
            1024,
            9960,
            2745,
            3804,
            1038,
            727,
            1237,
            3749,
            685,
            2746,
            708,
            3643,
            4249,
            1938,
            2659,
            3398,
            4473,
            1068,
            7408,
            2101,
            4169,
            1521,
            4439,
            3949,
            882,
            959,
            1246,
            2247,
            2473,
            3446,
            1330,
            7374,
            2326,
            1957,
            2348,
            2039,
            1053,
            939,
            1967,
            2579,
            958,
            11328,
            2136,
            3394,
            609,
            1620,
            2629,
            5096,
            1842,
            2576,
            1512,
            4817,
            343,
            3620,
            1721,
            2924,
            448,
            654,
            1245,
            5152,
            1037,
            1478,
            3573,
            1201,
            1209,
            1301,
            1323,
            3123,
            1126,
            1216,
            2360,
            6850,
            759,
            609,
            1361,
            1203,
            3190,
            1113,
            7966,
            662,
            2273,
            3612,
            3049,
            2864,
            626,
            6999,
            1995,
            1199,
            1331,
            2278,
            3552,
            1928,
            683,
            1372,
            6758,
            806,
            1082,
            2930,
            2820,
            1056,
            3124,
            1289,
            1217,
            2246,
            385,
            931,
            4241,
            2329,
            918,
            1275,
            2828,
            741,
            3357,
            3652,
            2116,
            1437,
            3660,
            1553,
            1355,
            4370,
            750,
            1308,
            1880,
            4583,
            1922,
            2303,
            8086,
            888,
            4221,
            6361,
            1050,
            1047,
            3496,
            3017,
            5595,
            9857,
            3651,
            975,
            2631,
            2896,
            1103,
            2503,
            2528,
            6560,
            1206,
            2118,
            1138,
            14027,
            6148,
            1337,
            1228,
            790,
            1275,
            6403,
            760,
            4380,
            2325,
            1048,
            2483,
            1797,
            1274,
            428,
            976,
            1299,
            691,
            2214,
            1155,
            3108,
            8065,
            3509,
            3872,
            4933,
            1410,
            836,
            1941,
            5998,
            1188,
            4272,
            9271,
            590,
            907,
            484,
            9629,
            3051,
            15857,
            1345,
            3016,
            2712,
            731,
            1602,
            2327,
            1082,
            2957,
            5179,
            1364,
            709,
            3959,
            2439,
            2389,
            1343,
            1382,
            3590,
            1322,
            4057,
            795,
            15672,
            2442,
            2171,
            5800,
            4153,
            4736,
            18424,
            14896,
            2359,
            6872,
            697,
            1344,
            1747,
            1670,
            1498,
            1919,
            745,
            8358,
            3590,
            2145,
            1893,
            1154,
            4006,
            2353,
            454,
            2520,
            3939,
            1514,
            1258,
            753,
            8386,
            2923,
            8229,
            6289,
            1743,
            3959,
            3857,
            4576
           ]
          }
         ],
         "hovertemplate": "Housing=own<br>%{xaxis.title.text}=%{x}<br>%{yaxis.title.text}=%{y}<extra></extra>",
         "legendgroup": "own",
         "marker": {
          "color": "#636efa",
          "symbol": "circle"
         },
         "name": "own",
         "showlegend": true,
         "type": "splom"
        },
        {
         "dimensions": [
          {
           "axis": {
            "matches": true
           },
           "label": "Credit amount",
           "values": [
            7882,
            4870,
            12579,
            6143,
            2225,
            1953,
            1164,
            1526,
            12612,
            781,
            7308,
            5129,
            1175,
            3844,
            10623,
            7865,
            3149,
            4605,
            2149,
            5302,
            7582,
            6419,
            4796,
            2910,
            6615,
            5743,
            1136,
            14782,
            14318,
            12976,
            3249,
            2578,
            1190,
            1872,
            3386,
            8318,
            5493,
            7119,
            7763,
            1333,
            1837,
            2671,
            1240,
            2600,
            947,
            7476,
            3973,
            2862,
            6331,
            1377,
            1198,
            1480,
            6224,
            2892,
            9283,
            3931,
            1442,
            1940,
            1422,
            10297,
            6288,
            3349,
            3069,
            6579,
            1845
           ]
          }
         ],
         "hovertemplate": "Housing=free<br>%{xaxis.title.text}=%{x}<br>%{yaxis.title.text}=%{y}<extra></extra>",
         "legendgroup": "free",
         "marker": {
          "color": "#EF553B",
          "symbol": "circle"
         },
         "name": "free",
         "showlegend": true,
         "type": "splom"
        },
        {
         "dimensions": [
          {
           "axis": {
            "matches": true
           },
           "label": "Credit amount",
           "values": [
            6948,
            1295,
            4308,
            1403,
            2647,
            2241,
            409,
            6187,
            1352,
            6229,
            15945,
            2323,
            1919,
            392,
            6260,
            1881,
            7758,
            6967,
            1282,
            950,
            3031,
            951,
            902,
            3021,
            2767,
            9398,
            276,
            4110,
            3384,
            3599,
            3213,
            3758,
            6199,
            2406,
            3650,
            3001,
            7685,
            983,
            11760,
            1223,
            2779,
            3905,
            3017,
            1659,
            3092,
            3114,
            3622,
            2122,
            9034,
            1207,
            2687,
            585,
            2302,
            2631,
            2319,
            1534,
            1546,
            1553,
            3234,
            2384,
            2039,
            2799,
            2718,
            1442,
            3632,
            3676,
            3441,
            1858,
            684,
            1297,
            4843,
            2384,
            1905,
            2969,
            433,
            1882,
            6416,
            1987,
            11560,
            4280,
            2511,
            841,
            2124,
            3617,
            1795,
            1778,
            7432,
            3966,
            1216,
            11816,
            2235,
            652,
            2606,
            2625,
            1107,
            3161,
            3345,
            1366,
            2002,
            1049,
            2063,
            1845,
            4113,
            1231,
            1193,
            7297,
            1264,
            1433
           ]
          }
         ],
         "hovertemplate": "Housing=rent<br>%{xaxis.title.text}=%{x}<br>%{yaxis.title.text}=%{y}<extra></extra>",
         "legendgroup": "rent",
         "marker": {
          "color": "#00cc96",
          "symbol": "circle"
         },
         "name": "rent",
         "showlegend": true,
         "type": "splom"
        }
       ],
       "layout": {
        "dragmode": "select",
        "legend": {
         "title": {
          "text": "Housing"
         },
         "tracegroupgap": 0
        },
        "margin": {
         "t": 60
        },
        "template": {
         "data": {
          "bar": [
           {
            "error_x": {
             "color": "#2a3f5f"
            },
            "error_y": {
             "color": "#2a3f5f"
            },
            "marker": {
             "line": {
              "color": "#E5ECF6",
              "width": 0.5
             },
             "pattern": {
              "fillmode": "overlay",
              "size": 10,
              "solidity": 0.2
             }
            },
            "type": "bar"
           }
          ],
          "barpolar": [
           {
            "marker": {
             "line": {
              "color": "#E5ECF6",
              "width": 0.5
             },
             "pattern": {
              "fillmode": "overlay",
              "size": 10,
              "solidity": 0.2
             }
            },
            "type": "barpolar"
           }
          ],
          "carpet": [
           {
            "aaxis": {
             "endlinecolor": "#2a3f5f",
             "gridcolor": "white",
             "linecolor": "white",
             "minorgridcolor": "white",
             "startlinecolor": "#2a3f5f"
            },
            "baxis": {
             "endlinecolor": "#2a3f5f",
             "gridcolor": "white",
             "linecolor": "white",
             "minorgridcolor": "white",
             "startlinecolor": "#2a3f5f"
            },
            "type": "carpet"
           }
          ],
          "choropleth": [
           {
            "colorbar": {
             "outlinewidth": 0,
             "ticks": ""
            },
            "type": "choropleth"
           }
          ],
          "contour": [
           {
            "colorbar": {
             "outlinewidth": 0,
             "ticks": ""
            },
            "colorscale": [
             [
              0,
              "#0d0887"
             ],
             [
              0.1111111111111111,
              "#46039f"
             ],
             [
              0.2222222222222222,
              "#7201a8"
             ],
             [
              0.3333333333333333,
              "#9c179e"
             ],
             [
              0.4444444444444444,
              "#bd3786"
             ],
             [
              0.5555555555555556,
              "#d8576b"
             ],
             [
              0.6666666666666666,
              "#ed7953"
             ],
             [
              0.7777777777777778,
              "#fb9f3a"
             ],
             [
              0.8888888888888888,
              "#fdca26"
             ],
             [
              1,
              "#f0f921"
             ]
            ],
            "type": "contour"
           }
          ],
          "contourcarpet": [
           {
            "colorbar": {
             "outlinewidth": 0,
             "ticks": ""
            },
            "type": "contourcarpet"
           }
          ],
          "heatmap": [
           {
            "colorbar": {
             "outlinewidth": 0,
             "ticks": ""
            },
            "colorscale": [
             [
              0,
              "#0d0887"
             ],
             [
              0.1111111111111111,
              "#46039f"
             ],
             [
              0.2222222222222222,
              "#7201a8"
             ],
             [
              0.3333333333333333,
              "#9c179e"
             ],
             [
              0.4444444444444444,
              "#bd3786"
             ],
             [
              0.5555555555555556,
              "#d8576b"
             ],
             [
              0.6666666666666666,
              "#ed7953"
             ],
             [
              0.7777777777777778,
              "#fb9f3a"
             ],
             [
              0.8888888888888888,
              "#fdca26"
             ],
             [
              1,
              "#f0f921"
             ]
            ],
            "type": "heatmap"
           }
          ],
          "heatmapgl": [
           {
            "colorbar": {
             "outlinewidth": 0,
             "ticks": ""
            },
            "colorscale": [
             [
              0,
              "#0d0887"
             ],
             [
              0.1111111111111111,
              "#46039f"
             ],
             [
              0.2222222222222222,
              "#7201a8"
             ],
             [
              0.3333333333333333,
              "#9c179e"
             ],
             [
              0.4444444444444444,
              "#bd3786"
             ],
             [
              0.5555555555555556,
              "#d8576b"
             ],
             [
              0.6666666666666666,
              "#ed7953"
             ],
             [
              0.7777777777777778,
              "#fb9f3a"
             ],
             [
              0.8888888888888888,
              "#fdca26"
             ],
             [
              1,
              "#f0f921"
             ]
            ],
            "type": "heatmapgl"
           }
          ],
          "histogram": [
           {
            "marker": {
             "pattern": {
              "fillmode": "overlay",
              "size": 10,
              "solidity": 0.2
             }
            },
            "type": "histogram"
           }
          ],
          "histogram2d": [
           {
            "colorbar": {
             "outlinewidth": 0,
             "ticks": ""
            },
            "colorscale": [
             [
              0,
              "#0d0887"
             ],
             [
              0.1111111111111111,
              "#46039f"
             ],
             [
              0.2222222222222222,
              "#7201a8"
             ],
             [
              0.3333333333333333,
              "#9c179e"
             ],
             [
              0.4444444444444444,
              "#bd3786"
             ],
             [
              0.5555555555555556,
              "#d8576b"
             ],
             [
              0.6666666666666666,
              "#ed7953"
             ],
             [
              0.7777777777777778,
              "#fb9f3a"
             ],
             [
              0.8888888888888888,
              "#fdca26"
             ],
             [
              1,
              "#f0f921"
             ]
            ],
            "type": "histogram2d"
           }
          ],
          "histogram2dcontour": [
           {
            "colorbar": {
             "outlinewidth": 0,
             "ticks": ""
            },
            "colorscale": [
             [
              0,
              "#0d0887"
             ],
             [
              0.1111111111111111,
              "#46039f"
             ],
             [
              0.2222222222222222,
              "#7201a8"
             ],
             [
              0.3333333333333333,
              "#9c179e"
             ],
             [
              0.4444444444444444,
              "#bd3786"
             ],
             [
              0.5555555555555556,
              "#d8576b"
             ],
             [
              0.6666666666666666,
              "#ed7953"
             ],
             [
              0.7777777777777778,
              "#fb9f3a"
             ],
             [
              0.8888888888888888,
              "#fdca26"
             ],
             [
              1,
              "#f0f921"
             ]
            ],
            "type": "histogram2dcontour"
           }
          ],
          "mesh3d": [
           {
            "colorbar": {
             "outlinewidth": 0,
             "ticks": ""
            },
            "type": "mesh3d"
           }
          ],
          "parcoords": [
           {
            "line": {
             "colorbar": {
              "outlinewidth": 0,
              "ticks": ""
             }
            },
            "type": "parcoords"
           }
          ],
          "pie": [
           {
            "automargin": true,
            "type": "pie"
           }
          ],
          "scatter": [
           {
            "fillpattern": {
             "fillmode": "overlay",
             "size": 10,
             "solidity": 0.2
            },
            "type": "scatter"
           }
          ],
          "scatter3d": [
           {
            "line": {
             "colorbar": {
              "outlinewidth": 0,
              "ticks": ""
             }
            },
            "marker": {
             "colorbar": {
              "outlinewidth": 0,
              "ticks": ""
             }
            },
            "type": "scatter3d"
           }
          ],
          "scattercarpet": [
           {
            "marker": {
             "colorbar": {
              "outlinewidth": 0,
              "ticks": ""
             }
            },
            "type": "scattercarpet"
           }
          ],
          "scattergeo": [
           {
            "marker": {
             "colorbar": {
              "outlinewidth": 0,
              "ticks": ""
             }
            },
            "type": "scattergeo"
           }
          ],
          "scattergl": [
           {
            "marker": {
             "colorbar": {
              "outlinewidth": 0,
              "ticks": ""
             }
            },
            "type": "scattergl"
           }
          ],
          "scattermapbox": [
           {
            "marker": {
             "colorbar": {
              "outlinewidth": 0,
              "ticks": ""
             }
            },
            "type": "scattermapbox"
           }
          ],
          "scatterpolar": [
           {
            "marker": {
             "colorbar": {
              "outlinewidth": 0,
              "ticks": ""
             }
            },
            "type": "scatterpolar"
           }
          ],
          "scatterpolargl": [
           {
            "marker": {
             "colorbar": {
              "outlinewidth": 0,
              "ticks": ""
             }
            },
            "type": "scatterpolargl"
           }
          ],
          "scatterternary": [
           {
            "marker": {
             "colorbar": {
              "outlinewidth": 0,
              "ticks": ""
             }
            },
            "type": "scatterternary"
           }
          ],
          "surface": [
           {
            "colorbar": {
             "outlinewidth": 0,
             "ticks": ""
            },
            "colorscale": [
             [
              0,
              "#0d0887"
             ],
             [
              0.1111111111111111,
              "#46039f"
             ],
             [
              0.2222222222222222,
              "#7201a8"
             ],
             [
              0.3333333333333333,
              "#9c179e"
             ],
             [
              0.4444444444444444,
              "#bd3786"
             ],
             [
              0.5555555555555556,
              "#d8576b"
             ],
             [
              0.6666666666666666,
              "#ed7953"
             ],
             [
              0.7777777777777778,
              "#fb9f3a"
             ],
             [
              0.8888888888888888,
              "#fdca26"
             ],
             [
              1,
              "#f0f921"
             ]
            ],
            "type": "surface"
           }
          ],
          "table": [
           {
            "cells": {
             "fill": {
              "color": "#EBF0F8"
             },
             "line": {
              "color": "white"
             }
            },
            "header": {
             "fill": {
              "color": "#C8D4E3"
             },
             "line": {
              "color": "white"
             }
            },
            "type": "table"
           }
          ]
         },
         "layout": {
          "annotationdefaults": {
           "arrowcolor": "#2a3f5f",
           "arrowhead": 0,
           "arrowwidth": 1
          },
          "autotypenumbers": "strict",
          "coloraxis": {
           "colorbar": {
            "outlinewidth": 0,
            "ticks": ""
           }
          },
          "colorscale": {
           "diverging": [
            [
             0,
             "#8e0152"
            ],
            [
             0.1,
             "#c51b7d"
            ],
            [
             0.2,
             "#de77ae"
            ],
            [
             0.3,
             "#f1b6da"
            ],
            [
             0.4,
             "#fde0ef"
            ],
            [
             0.5,
             "#f7f7f7"
            ],
            [
             0.6,
             "#e6f5d0"
            ],
            [
             0.7,
             "#b8e186"
            ],
            [
             0.8,
             "#7fbc41"
            ],
            [
             0.9,
             "#4d9221"
            ],
            [
             1,
             "#276419"
            ]
           ],
           "sequential": [
            [
             0,
             "#0d0887"
            ],
            [
             0.1111111111111111,
             "#46039f"
            ],
            [
             0.2222222222222222,
             "#7201a8"
            ],
            [
             0.3333333333333333,
             "#9c179e"
            ],
            [
             0.4444444444444444,
             "#bd3786"
            ],
            [
             0.5555555555555556,
             "#d8576b"
            ],
            [
             0.6666666666666666,
             "#ed7953"
            ],
            [
             0.7777777777777778,
             "#fb9f3a"
            ],
            [
             0.8888888888888888,
             "#fdca26"
            ],
            [
             1,
             "#f0f921"
            ]
           ],
           "sequentialminus": [
            [
             0,
             "#0d0887"
            ],
            [
             0.1111111111111111,
             "#46039f"
            ],
            [
             0.2222222222222222,
             "#7201a8"
            ],
            [
             0.3333333333333333,
             "#9c179e"
            ],
            [
             0.4444444444444444,
             "#bd3786"
            ],
            [
             0.5555555555555556,
             "#d8576b"
            ],
            [
             0.6666666666666666,
             "#ed7953"
            ],
            [
             0.7777777777777778,
             "#fb9f3a"
            ],
            [
             0.8888888888888888,
             "#fdca26"
            ],
            [
             1,
             "#f0f921"
            ]
           ]
          },
          "colorway": [
           "#636efa",
           "#EF553B",
           "#00cc96",
           "#ab63fa",
           "#FFA15A",
           "#19d3f3",
           "#FF6692",
           "#B6E880",
           "#FF97FF",
           "#FECB52"
          ],
          "font": {
           "color": "#2a3f5f"
          },
          "geo": {
           "bgcolor": "white",
           "lakecolor": "white",
           "landcolor": "#E5ECF6",
           "showlakes": true,
           "showland": true,
           "subunitcolor": "white"
          },
          "hoverlabel": {
           "align": "left"
          },
          "hovermode": "closest",
          "mapbox": {
           "style": "light"
          },
          "paper_bgcolor": "white",
          "plot_bgcolor": "#E5ECF6",
          "polar": {
           "angularaxis": {
            "gridcolor": "white",
            "linecolor": "white",
            "ticks": ""
           },
           "bgcolor": "#E5ECF6",
           "radialaxis": {
            "gridcolor": "white",
            "linecolor": "white",
            "ticks": ""
           }
          },
          "scene": {
           "xaxis": {
            "backgroundcolor": "#E5ECF6",
            "gridcolor": "white",
            "gridwidth": 2,
            "linecolor": "white",
            "showbackground": true,
            "ticks": "",
            "zerolinecolor": "white"
           },
           "yaxis": {
            "backgroundcolor": "#E5ECF6",
            "gridcolor": "white",
            "gridwidth": 2,
            "linecolor": "white",
            "showbackground": true,
            "ticks": "",
            "zerolinecolor": "white"
           },
           "zaxis": {
            "backgroundcolor": "#E5ECF6",
            "gridcolor": "white",
            "gridwidth": 2,
            "linecolor": "white",
            "showbackground": true,
            "ticks": "",
            "zerolinecolor": "white"
           }
          },
          "shapedefaults": {
           "line": {
            "color": "#2a3f5f"
           }
          },
          "ternary": {
           "aaxis": {
            "gridcolor": "white",
            "linecolor": "white",
            "ticks": ""
           },
           "baxis": {
            "gridcolor": "white",
            "linecolor": "white",
            "ticks": ""
           },
           "bgcolor": "#E5ECF6",
           "caxis": {
            "gridcolor": "white",
            "linecolor": "white",
            "ticks": ""
           }
          },
          "title": {
           "x": 0.05
          },
          "xaxis": {
           "automargin": true,
           "gridcolor": "white",
           "linecolor": "white",
           "ticks": "",
           "title": {
            "standoff": 15
           },
           "zerolinecolor": "white",
           "zerolinewidth": 2
          },
          "yaxis": {
           "automargin": true,
           "gridcolor": "white",
           "linecolor": "white",
           "ticks": "",
           "title": {
            "standoff": 15
           },
           "zerolinecolor": "white",
           "zerolinewidth": 2
          }
         }
        }
       }
      }
     },
     "metadata": {},
     "output_type": "display_data"
    }
   ],
   "source": [
    "grafico = px.scatter_matrix(base, dimensions=['Credit amount'], color='Housing');\n",
    "display(grafico);\n",
    "\n"
   ]
  },
  {
   "cell_type": "code",
   "execution_count": 472,
   "metadata": {},
   "outputs": [
    {
     "data": {
      "text/html": [
       "<div>\n",
       "<style scoped>\n",
       "    .dataframe tbody tr th:only-of-type {\n",
       "        vertical-align: middle;\n",
       "    }\n",
       "\n",
       "    .dataframe tbody tr th {\n",
       "        vertical-align: top;\n",
       "    }\n",
       "\n",
       "    .dataframe thead th {\n",
       "        text-align: right;\n",
       "    }\n",
       "</style>\n",
       "<table border=\"1\" class=\"dataframe\">\n",
       "  <thead>\n",
       "    <tr style=\"text-align: right;\">\n",
       "      <th></th>\n",
       "      <th>Unnamed: 0</th>\n",
       "      <th>Age</th>\n",
       "      <th>Sex</th>\n",
       "      <th>Job</th>\n",
       "      <th>Housing</th>\n",
       "      <th>Saving accounts</th>\n",
       "      <th>Checking account</th>\n",
       "      <th>Credit amount</th>\n",
       "      <th>Duration</th>\n",
       "      <th>Purpose</th>\n",
       "      <th>Risk</th>\n",
       "    </tr>\n",
       "  </thead>\n",
       "  <tbody>\n",
       "    <tr>\n",
       "      <th>989</th>\n",
       "      <td>989</td>\n",
       "      <td>48</td>\n",
       "      <td>male</td>\n",
       "      <td>1</td>\n",
       "      <td>own</td>\n",
       "      <td>little</td>\n",
       "      <td>moderate</td>\n",
       "      <td>1743</td>\n",
       "      <td>24</td>\n",
       "      <td>radio/TV</td>\n",
       "      <td>good</td>\n",
       "    </tr>\n",
       "    <tr>\n",
       "      <th>993</th>\n",
       "      <td>993</td>\n",
       "      <td>30</td>\n",
       "      <td>male</td>\n",
       "      <td>3</td>\n",
       "      <td>own</td>\n",
       "      <td>little</td>\n",
       "      <td>little</td>\n",
       "      <td>3959</td>\n",
       "      <td>36</td>\n",
       "      <td>furniture/equipment</td>\n",
       "      <td>good</td>\n",
       "    </tr>\n",
       "    <tr>\n",
       "      <th>996</th>\n",
       "      <td>996</td>\n",
       "      <td>40</td>\n",
       "      <td>male</td>\n",
       "      <td>3</td>\n",
       "      <td>own</td>\n",
       "      <td>little</td>\n",
       "      <td>little</td>\n",
       "      <td>3857</td>\n",
       "      <td>30</td>\n",
       "      <td>car</td>\n",
       "      <td>good</td>\n",
       "    </tr>\n",
       "    <tr>\n",
       "      <th>998</th>\n",
       "      <td>998</td>\n",
       "      <td>23</td>\n",
       "      <td>male</td>\n",
       "      <td>2</td>\n",
       "      <td>free</td>\n",
       "      <td>little</td>\n",
       "      <td>little</td>\n",
       "      <td>1845</td>\n",
       "      <td>45</td>\n",
       "      <td>radio/TV</td>\n",
       "      <td>bad</td>\n",
       "    </tr>\n",
       "    <tr>\n",
       "      <th>999</th>\n",
       "      <td>999</td>\n",
       "      <td>27</td>\n",
       "      <td>male</td>\n",
       "      <td>2</td>\n",
       "      <td>own</td>\n",
       "      <td>moderate</td>\n",
       "      <td>moderate</td>\n",
       "      <td>4576</td>\n",
       "      <td>45</td>\n",
       "      <td>car</td>\n",
       "      <td>good</td>\n",
       "    </tr>\n",
       "  </tbody>\n",
       "</table>\n",
       "</div>"
      ],
      "text/plain": [
       "     Unnamed: 0  Age   Sex  Job Housing Saving accounts Checking account  \\\n",
       "989         989   48  male    1     own          little         moderate   \n",
       "993         993   30  male    3     own          little           little   \n",
       "996         996   40  male    3     own          little           little   \n",
       "998         998   23  male    2    free          little           little   \n",
       "999         999   27  male    2     own        moderate         moderate   \n",
       "\n",
       "     Credit amount  Duration              Purpose  Risk  \n",
       "989           1743        24             radio/TV  good  \n",
       "993           3959        36  furniture/equipment  good  \n",
       "996           3857        30                  car  good  \n",
       "998           1845        45             radio/TV   bad  \n",
       "999           4576        45                  car  good  "
      ]
     },
     "execution_count": 472,
     "metadata": {},
     "output_type": "execute_result"
    }
   ],
   "source": [
    "base.tail(5)"
   ]
  },
  {
   "cell_type": "code",
   "execution_count": 473,
   "metadata": {},
   "outputs": [],
   "source": [
    "x_base = base.iloc[:, 1:10].values\n",
    "y_base = base.iloc[:, 10].values\n",
    "y_base = y_base.reshape(-1, 1)"
   ]
  },
  {
   "cell_type": "code",
   "execution_count": 474,
   "metadata": {},
   "outputs": [
    {
     "data": {
      "text/plain": [
       "array([22, 'female', 2, 'own', 'little', 'moderate', 5951, 48, 'radio/TV'],\n",
       "      dtype=object)"
      ]
     },
     "execution_count": 474,
     "metadata": {},
     "output_type": "execute_result"
    }
   ],
   "source": [
    "x_base[0]"
   ]
  },
  {
   "cell_type": "code",
   "execution_count": 475,
   "metadata": {},
   "outputs": [],
   "source": [
    "categorical_features = base[['Sex', 'Housing', 'Saving accounts', 'Checking account', 'Purpose', 'Risk']]"
   ]
  },
  {
   "cell_type": "code",
   "execution_count": 476,
   "metadata": {},
   "outputs": [
    {
     "data": {
      "text/html": [
       "<div>\n",
       "<style scoped>\n",
       "    .dataframe tbody tr th:only-of-type {\n",
       "        vertical-align: middle;\n",
       "    }\n",
       "\n",
       "    .dataframe tbody tr th {\n",
       "        vertical-align: top;\n",
       "    }\n",
       "\n",
       "    .dataframe thead th {\n",
       "        text-align: right;\n",
       "    }\n",
       "</style>\n",
       "<table border=\"1\" class=\"dataframe\">\n",
       "  <thead>\n",
       "    <tr style=\"text-align: right;\">\n",
       "      <th></th>\n",
       "      <th>Sex</th>\n",
       "      <th>Housing</th>\n",
       "      <th>Saving accounts</th>\n",
       "      <th>Checking account</th>\n",
       "      <th>Purpose</th>\n",
       "      <th>Risk</th>\n",
       "    </tr>\n",
       "  </thead>\n",
       "  <tbody>\n",
       "    <tr>\n",
       "      <th>1</th>\n",
       "      <td>female</td>\n",
       "      <td>own</td>\n",
       "      <td>little</td>\n",
       "      <td>moderate</td>\n",
       "      <td>radio/TV</td>\n",
       "      <td>bad</td>\n",
       "    </tr>\n",
       "    <tr>\n",
       "      <th>3</th>\n",
       "      <td>male</td>\n",
       "      <td>free</td>\n",
       "      <td>little</td>\n",
       "      <td>little</td>\n",
       "      <td>furniture/equipment</td>\n",
       "      <td>good</td>\n",
       "    </tr>\n",
       "    <tr>\n",
       "      <th>4</th>\n",
       "      <td>male</td>\n",
       "      <td>free</td>\n",
       "      <td>little</td>\n",
       "      <td>little</td>\n",
       "      <td>car</td>\n",
       "      <td>bad</td>\n",
       "    </tr>\n",
       "    <tr>\n",
       "      <th>7</th>\n",
       "      <td>male</td>\n",
       "      <td>rent</td>\n",
       "      <td>little</td>\n",
       "      <td>moderate</td>\n",
       "      <td>car</td>\n",
       "      <td>good</td>\n",
       "    </tr>\n",
       "    <tr>\n",
       "      <th>9</th>\n",
       "      <td>male</td>\n",
       "      <td>own</td>\n",
       "      <td>little</td>\n",
       "      <td>moderate</td>\n",
       "      <td>car</td>\n",
       "      <td>bad</td>\n",
       "    </tr>\n",
       "    <tr>\n",
       "      <th>...</th>\n",
       "      <td>...</td>\n",
       "      <td>...</td>\n",
       "      <td>...</td>\n",
       "      <td>...</td>\n",
       "      <td>...</td>\n",
       "      <td>...</td>\n",
       "    </tr>\n",
       "    <tr>\n",
       "      <th>989</th>\n",
       "      <td>male</td>\n",
       "      <td>own</td>\n",
       "      <td>little</td>\n",
       "      <td>moderate</td>\n",
       "      <td>radio/TV</td>\n",
       "      <td>good</td>\n",
       "    </tr>\n",
       "    <tr>\n",
       "      <th>993</th>\n",
       "      <td>male</td>\n",
       "      <td>own</td>\n",
       "      <td>little</td>\n",
       "      <td>little</td>\n",
       "      <td>furniture/equipment</td>\n",
       "      <td>good</td>\n",
       "    </tr>\n",
       "    <tr>\n",
       "      <th>996</th>\n",
       "      <td>male</td>\n",
       "      <td>own</td>\n",
       "      <td>little</td>\n",
       "      <td>little</td>\n",
       "      <td>car</td>\n",
       "      <td>good</td>\n",
       "    </tr>\n",
       "    <tr>\n",
       "      <th>998</th>\n",
       "      <td>male</td>\n",
       "      <td>free</td>\n",
       "      <td>little</td>\n",
       "      <td>little</td>\n",
       "      <td>radio/TV</td>\n",
       "      <td>bad</td>\n",
       "    </tr>\n",
       "    <tr>\n",
       "      <th>999</th>\n",
       "      <td>male</td>\n",
       "      <td>own</td>\n",
       "      <td>moderate</td>\n",
       "      <td>moderate</td>\n",
       "      <td>car</td>\n",
       "      <td>good</td>\n",
       "    </tr>\n",
       "  </tbody>\n",
       "</table>\n",
       "<p>522 rows × 6 columns</p>\n",
       "</div>"
      ],
      "text/plain": [
       "        Sex Housing Saving accounts Checking account              Purpose  \\\n",
       "1    female     own          little         moderate             radio/TV   \n",
       "3      male    free          little           little  furniture/equipment   \n",
       "4      male    free          little           little                  car   \n",
       "7      male    rent          little         moderate                  car   \n",
       "9      male     own          little         moderate                  car   \n",
       "..      ...     ...             ...              ...                  ...   \n",
       "989    male     own          little         moderate             radio/TV   \n",
       "993    male     own          little           little  furniture/equipment   \n",
       "996    male     own          little           little                  car   \n",
       "998    male    free          little           little             radio/TV   \n",
       "999    male     own        moderate         moderate                  car   \n",
       "\n",
       "     Risk  \n",
       "1     bad  \n",
       "3    good  \n",
       "4     bad  \n",
       "7    good  \n",
       "9     bad  \n",
       "..    ...  \n",
       "989  good  \n",
       "993  good  \n",
       "996  good  \n",
       "998   bad  \n",
       "999  good  \n",
       "\n",
       "[522 rows x 6 columns]"
      ]
     },
     "execution_count": 476,
     "metadata": {},
     "output_type": "execute_result"
    }
   ],
   "source": [
    "categorical_features"
   ]
  },
  {
   "cell_type": "code",
   "execution_count": 477,
   "metadata": {},
   "outputs": [
    {
     "data": {
      "text/plain": [
       "array([['bad'],\n",
       "       ['good'],\n",
       "       ['bad'],\n",
       "       ['good'],\n",
       "       ['bad'],\n",
       "       ['bad'],\n",
       "       ['bad'],\n",
       "       ['good'],\n",
       "       ['bad'],\n",
       "       ['good'],\n",
       "       ['bad'],\n",
       "       ['bad'],\n",
       "       ['good'],\n",
       "       ['good'],\n",
       "       ['good'],\n",
       "       ['good'],\n",
       "       ['good'],\n",
       "       ['good'],\n",
       "       ['bad'],\n",
       "       ['good'],\n",
       "       ['good'],\n",
       "       ['good'],\n",
       "       ['good'],\n",
       "       ['bad'],\n",
       "       ['bad'],\n",
       "       ['good'],\n",
       "       ['good'],\n",
       "       ['good'],\n",
       "       ['good'],\n",
       "       ['good'],\n",
       "       ['bad'],\n",
       "       ['good'],\n",
       "       ['good'],\n",
       "       ['bad'],\n",
       "       ['good'],\n",
       "       ['bad'],\n",
       "       ['good'],\n",
       "       ['bad'],\n",
       "       ['bad'],\n",
       "       ['good'],\n",
       "       ['good'],\n",
       "       ['good'],\n",
       "       ['good'],\n",
       "       ['bad'],\n",
       "       ['good'],\n",
       "       ['good'],\n",
       "       ['good'],\n",
       "       ['good'],\n",
       "       ['good'],\n",
       "       ['bad'],\n",
       "       ['good'],\n",
       "       ['bad'],\n",
       "       ['good'],\n",
       "       ['good'],\n",
       "       ['bad'],\n",
       "       ['good'],\n",
       "       ['good'],\n",
       "       ['good'],\n",
       "       ['good'],\n",
       "       ['bad'],\n",
       "       ['good'],\n",
       "       ['good'],\n",
       "       ['good'],\n",
       "       ['good'],\n",
       "       ['good'],\n",
       "       ['good'],\n",
       "       ['bad'],\n",
       "       ['good'],\n",
       "       ['bad'],\n",
       "       ['good'],\n",
       "       ['good'],\n",
       "       ['good'],\n",
       "       ['bad'],\n",
       "       ['good'],\n",
       "       ['bad'],\n",
       "       ['bad'],\n",
       "       ['bad'],\n",
       "       ['good'],\n",
       "       ['good'],\n",
       "       ['good'],\n",
       "       ['good'],\n",
       "       ['bad'],\n",
       "       ['good'],\n",
       "       ['good'],\n",
       "       ['good'],\n",
       "       ['good'],\n",
       "       ['good'],\n",
       "       ['good'],\n",
       "       ['bad'],\n",
       "       ['good'],\n",
       "       ['good'],\n",
       "       ['good'],\n",
       "       ['good'],\n",
       "       ['bad'],\n",
       "       ['good'],\n",
       "       ['bad'],\n",
       "       ['bad'],\n",
       "       ['bad'],\n",
       "       ['good'],\n",
       "       ['bad'],\n",
       "       ['good'],\n",
       "       ['good'],\n",
       "       ['good'],\n",
       "       ['bad'],\n",
       "       ['bad'],\n",
       "       ['bad'],\n",
       "       ['good'],\n",
       "       ['bad'],\n",
       "       ['good'],\n",
       "       ['bad'],\n",
       "       ['bad'],\n",
       "       ['bad'],\n",
       "       ['bad'],\n",
       "       ['bad'],\n",
       "       ['bad'],\n",
       "       ['good'],\n",
       "       ['bad'],\n",
       "       ['good'],\n",
       "       ['good'],\n",
       "       ['good'],\n",
       "       ['bad'],\n",
       "       ['bad'],\n",
       "       ['good'],\n",
       "       ['good'],\n",
       "       ['good'],\n",
       "       ['good'],\n",
       "       ['bad'],\n",
       "       ['bad'],\n",
       "       ['good'],\n",
       "       ['bad'],\n",
       "       ['good'],\n",
       "       ['bad'],\n",
       "       ['bad'],\n",
       "       ['good'],\n",
       "       ['bad'],\n",
       "       ['good'],\n",
       "       ['good'],\n",
       "       ['good'],\n",
       "       ['bad'],\n",
       "       ['bad'],\n",
       "       ['good'],\n",
       "       ['good'],\n",
       "       ['good'],\n",
       "       ['bad'],\n",
       "       ['bad'],\n",
       "       ['bad'],\n",
       "       ['bad'],\n",
       "       ['good'],\n",
       "       ['good'],\n",
       "       ['good'],\n",
       "       ['good'],\n",
       "       ['good'],\n",
       "       ['bad'],\n",
       "       ['bad'],\n",
       "       ['good'],\n",
       "       ['good'],\n",
       "       ['bad'],\n",
       "       ['good'],\n",
       "       ['bad'],\n",
       "       ['good'],\n",
       "       ['bad'],\n",
       "       ['bad'],\n",
       "       ['good'],\n",
       "       ['good'],\n",
       "       ['bad'],\n",
       "       ['bad'],\n",
       "       ['good'],\n",
       "       ['good'],\n",
       "       ['bad'],\n",
       "       ['bad'],\n",
       "       ['good'],\n",
       "       ['good'],\n",
       "       ['good'],\n",
       "       ['good'],\n",
       "       ['good'],\n",
       "       ['good'],\n",
       "       ['bad'],\n",
       "       ['bad'],\n",
       "       ['bad'],\n",
       "       ['good'],\n",
       "       ['good'],\n",
       "       ['good'],\n",
       "       ['good'],\n",
       "       ['good'],\n",
       "       ['good'],\n",
       "       ['good'],\n",
       "       ['good'],\n",
       "       ['good'],\n",
       "       ['good'],\n",
       "       ['bad'],\n",
       "       ['bad'],\n",
       "       ['bad'],\n",
       "       ['bad'],\n",
       "       ['bad'],\n",
       "       ['good'],\n",
       "       ['bad'],\n",
       "       ['good'],\n",
       "       ['bad'],\n",
       "       ['good'],\n",
       "       ['bad'],\n",
       "       ['bad'],\n",
       "       ['bad'],\n",
       "       ['bad'],\n",
       "       ['good'],\n",
       "       ['good'],\n",
       "       ['good'],\n",
       "       ['good'],\n",
       "       ['good'],\n",
       "       ['good'],\n",
       "       ['good'],\n",
       "       ['good'],\n",
       "       ['good'],\n",
       "       ['bad'],\n",
       "       ['bad'],\n",
       "       ['good'],\n",
       "       ['bad'],\n",
       "       ['good'],\n",
       "       ['bad'],\n",
       "       ['good'],\n",
       "       ['good'],\n",
       "       ['bad'],\n",
       "       ['bad'],\n",
       "       ['good'],\n",
       "       ['good'],\n",
       "       ['good'],\n",
       "       ['bad'],\n",
       "       ['good'],\n",
       "       ['good'],\n",
       "       ['bad'],\n",
       "       ['bad'],\n",
       "       ['good'],\n",
       "       ['bad'],\n",
       "       ['bad'],\n",
       "       ['good'],\n",
       "       ['bad'],\n",
       "       ['good'],\n",
       "       ['good'],\n",
       "       ['good'],\n",
       "       ['good'],\n",
       "       ['good'],\n",
       "       ['bad'],\n",
       "       ['bad'],\n",
       "       ['bad'],\n",
       "       ['bad'],\n",
       "       ['bad'],\n",
       "       ['bad'],\n",
       "       ['good'],\n",
       "       ['good'],\n",
       "       ['good'],\n",
       "       ['good'],\n",
       "       ['good'],\n",
       "       ['good'],\n",
       "       ['bad'],\n",
       "       ['bad'],\n",
       "       ['good'],\n",
       "       ['bad'],\n",
       "       ['good'],\n",
       "       ['good'],\n",
       "       ['bad'],\n",
       "       ['good'],\n",
       "       ['good'],\n",
       "       ['bad'],\n",
       "       ['bad'],\n",
       "       ['good'],\n",
       "       ['bad'],\n",
       "       ['bad'],\n",
       "       ['good'],\n",
       "       ['good'],\n",
       "       ['good'],\n",
       "       ['good'],\n",
       "       ['good'],\n",
       "       ['bad'],\n",
       "       ['bad'],\n",
       "       ['good'],\n",
       "       ['good'],\n",
       "       ['bad'],\n",
       "       ['good'],\n",
       "       ['good'],\n",
       "       ['bad'],\n",
       "       ['bad'],\n",
       "       ['good'],\n",
       "       ['bad'],\n",
       "       ['good'],\n",
       "       ['bad'],\n",
       "       ['bad'],\n",
       "       ['bad'],\n",
       "       ['bad'],\n",
       "       ['bad'],\n",
       "       ['good'],\n",
       "       ['good'],\n",
       "       ['bad'],\n",
       "       ['bad'],\n",
       "       ['bad'],\n",
       "       ['bad'],\n",
       "       ['bad'],\n",
       "       ['good'],\n",
       "       ['good'],\n",
       "       ['bad'],\n",
       "       ['bad'],\n",
       "       ['bad'],\n",
       "       ['good'],\n",
       "       ['good'],\n",
       "       ['good'],\n",
       "       ['bad'],\n",
       "       ['bad'],\n",
       "       ['good'],\n",
       "       ['bad'],\n",
       "       ['bad'],\n",
       "       ['good'],\n",
       "       ['good'],\n",
       "       ['bad'],\n",
       "       ['bad'],\n",
       "       ['good'],\n",
       "       ['bad'],\n",
       "       ['bad'],\n",
       "       ['bad'],\n",
       "       ['bad'],\n",
       "       ['good'],\n",
       "       ['bad'],\n",
       "       ['bad'],\n",
       "       ['good'],\n",
       "       ['good'],\n",
       "       ['bad'],\n",
       "       ['bad'],\n",
       "       ['bad'],\n",
       "       ['good'],\n",
       "       ['good'],\n",
       "       ['good'],\n",
       "       ['bad'],\n",
       "       ['good'],\n",
       "       ['good'],\n",
       "       ['bad'],\n",
       "       ['good'],\n",
       "       ['bad'],\n",
       "       ['good'],\n",
       "       ['bad'],\n",
       "       ['bad'],\n",
       "       ['bad'],\n",
       "       ['bad'],\n",
       "       ['good'],\n",
       "       ['good'],\n",
       "       ['good'],\n",
       "       ['bad'],\n",
       "       ['bad'],\n",
       "       ['good'],\n",
       "       ['bad'],\n",
       "       ['bad'],\n",
       "       ['bad'],\n",
       "       ['good'],\n",
       "       ['bad'],\n",
       "       ['good'],\n",
       "       ['good'],\n",
       "       ['good'],\n",
       "       ['good'],\n",
       "       ['good'],\n",
       "       ['good'],\n",
       "       ['bad'],\n",
       "       ['good'],\n",
       "       ['bad'],\n",
       "       ['good'],\n",
       "       ['good'],\n",
       "       ['good'],\n",
       "       ['good'],\n",
       "       ['good'],\n",
       "       ['good'],\n",
       "       ['good'],\n",
       "       ['good'],\n",
       "       ['good'],\n",
       "       ['bad'],\n",
       "       ['good'],\n",
       "       ['good'],\n",
       "       ['good'],\n",
       "       ['bad'],\n",
       "       ['bad'],\n",
       "       ['good'],\n",
       "       ['good'],\n",
       "       ['bad'],\n",
       "       ['good'],\n",
       "       ['bad'],\n",
       "       ['good'],\n",
       "       ['bad'],\n",
       "       ['bad'],\n",
       "       ['bad'],\n",
       "       ['good'],\n",
       "       ['bad'],\n",
       "       ['bad'],\n",
       "       ['good'],\n",
       "       ['good'],\n",
       "       ['bad'],\n",
       "       ['good'],\n",
       "       ['bad'],\n",
       "       ['good'],\n",
       "       ['bad'],\n",
       "       ['good'],\n",
       "       ['good'],\n",
       "       ['good'],\n",
       "       ['good'],\n",
       "       ['good'],\n",
       "       ['bad'],\n",
       "       ['good'],\n",
       "       ['bad'],\n",
       "       ['good'],\n",
       "       ['good'],\n",
       "       ['bad'],\n",
       "       ['bad'],\n",
       "       ['good'],\n",
       "       ['good'],\n",
       "       ['bad'],\n",
       "       ['good'],\n",
       "       ['bad'],\n",
       "       ['good'],\n",
       "       ['good'],\n",
       "       ['good'],\n",
       "       ['bad'],\n",
       "       ['good'],\n",
       "       ['bad'],\n",
       "       ['good'],\n",
       "       ['bad'],\n",
       "       ['bad'],\n",
       "       ['bad'],\n",
       "       ['good'],\n",
       "       ['good'],\n",
       "       ['good'],\n",
       "       ['bad'],\n",
       "       ['good'],\n",
       "       ['good'],\n",
       "       ['bad'],\n",
       "       ['good'],\n",
       "       ['good'],\n",
       "       ['bad'],\n",
       "       ['bad'],\n",
       "       ['bad'],\n",
       "       ['good'],\n",
       "       ['good'],\n",
       "       ['bad'],\n",
       "       ['good'],\n",
       "       ['bad'],\n",
       "       ['good'],\n",
       "       ['good'],\n",
       "       ['bad'],\n",
       "       ['bad'],\n",
       "       ['bad'],\n",
       "       ['bad'],\n",
       "       ['bad'],\n",
       "       ['good'],\n",
       "       ['bad'],\n",
       "       ['good'],\n",
       "       ['bad'],\n",
       "       ['bad'],\n",
       "       ['bad'],\n",
       "       ['bad'],\n",
       "       ['bad'],\n",
       "       ['good'],\n",
       "       ['good'],\n",
       "       ['good'],\n",
       "       ['good'],\n",
       "       ['good'],\n",
       "       ['good'],\n",
       "       ['good'],\n",
       "       ['bad'],\n",
       "       ['bad'],\n",
       "       ['bad'],\n",
       "       ['bad'],\n",
       "       ['good'],\n",
       "       ['good'],\n",
       "       ['good'],\n",
       "       ['good'],\n",
       "       ['bad'],\n",
       "       ['bad'],\n",
       "       ['good'],\n",
       "       ['bad'],\n",
       "       ['bad'],\n",
       "       ['bad'],\n",
       "       ['bad'],\n",
       "       ['bad'],\n",
       "       ['bad'],\n",
       "       ['bad'],\n",
       "       ['good'],\n",
       "       ['bad'],\n",
       "       ['bad'],\n",
       "       ['good'],\n",
       "       ['bad'],\n",
       "       ['good'],\n",
       "       ['good'],\n",
       "       ['bad'],\n",
       "       ['good'],\n",
       "       ['bad'],\n",
       "       ['bad'],\n",
       "       ['good'],\n",
       "       ['bad'],\n",
       "       ['good'],\n",
       "       ['good'],\n",
       "       ['bad'],\n",
       "       ['good'],\n",
       "       ['bad'],\n",
       "       ['bad'],\n",
       "       ['good'],\n",
       "       ['good'],\n",
       "       ['good'],\n",
       "       ['bad'],\n",
       "       ['good'],\n",
       "       ['good'],\n",
       "       ['good'],\n",
       "       ['bad'],\n",
       "       ['good'],\n",
       "       ['good'],\n",
       "       ['bad'],\n",
       "       ['bad'],\n",
       "       ['good'],\n",
       "       ['good'],\n",
       "       ['bad'],\n",
       "       ['bad'],\n",
       "       ['good'],\n",
       "       ['bad'],\n",
       "       ['good'],\n",
       "       ['good'],\n",
       "       ['good'],\n",
       "       ['good'],\n",
       "       ['good'],\n",
       "       ['good'],\n",
       "       ['bad'],\n",
       "       ['good']], dtype=object)"
      ]
     },
     "execution_count": 477,
     "metadata": {},
     "output_type": "execute_result"
    }
   ],
   "source": [
    "y_base"
   ]
  },
  {
   "cell_type": "code",
   "execution_count": 478,
   "metadata": {},
   "outputs": [],
   "source": [
    "from sklearn.preprocessing import OneHotEncoder, LabelEncoder\n",
    "from sklearn.compose import ColumnTransformer\n"
   ]
  },
  {
   "cell_type": "code",
   "execution_count": 479,
   "metadata": {},
   "outputs": [
    {
     "data": {
      "text/plain": [
       "array([22, 'female', 2, 'own', 'little', 'moderate', 5951, 48, 'radio/TV'],\n",
       "      dtype=object)"
      ]
     },
     "execution_count": 479,
     "metadata": {},
     "output_type": "execute_result"
    }
   ],
   "source": [
    "\n",
    "x_base[0]"
   ]
  },
  {
   "cell_type": "code",
   "execution_count": 480,
   "metadata": {},
   "outputs": [
    {
     "data": {
      "text/plain": [
       "array([22, 'female', 2, 'own', 0, 1, 5951, 48, 'radio/TV'], dtype=object)"
      ]
     },
     "execution_count": 480,
     "metadata": {},
     "output_type": "execute_result"
    }
   ],
   "source": [
    "encoder_saving_accounts = LabelEncoder()\n",
    "encoder_checking_accounts = LabelEncoder()\n",
    "x_base[0]\n",
    "x_base[:,4] = encoder_saving_accounts.fit_transform(x_base[:,4])\n",
    "x_base[:,5] = encoder_checking_accounts.fit_transform(x_base[:,5])\n",
    "x_base[0]"
   ]
  },
  {
   "cell_type": "code",
   "execution_count": 481,
   "metadata": {},
   "outputs": [],
   "source": [
    "onehotencoder = ColumnTransformer(transformers=[(\"OneHot\", OneHotEncoder(handle_unknown='ignore'), [1,3,4,5,8])], remainder=\"passthrough\")"
   ]
  },
  {
   "cell_type": "code",
   "execution_count": 482,
   "metadata": {},
   "outputs": [],
   "source": [
    "x_base = onehotencoder.fit_transform(x_base)"
   ]
  },
  {
   "cell_type": "code",
   "execution_count": 483,
   "metadata": {},
   "outputs": [
    {
     "data": {
      "text/plain": [
       "array([1.0, 0.0, 0.0, 1.0, 0.0, 1.0, 0.0, 0.0, 0.0, 0.0, 1.0, 0.0, 0.0,\n",
       "       0.0, 0.0, 0.0, 0.0, 1.0, 0.0, 0.0, 22, 2, 5951, 48], dtype=object)"
      ]
     },
     "execution_count": 483,
     "metadata": {},
     "output_type": "execute_result"
    }
   ],
   "source": [
    "x_base[0]"
   ]
  },
  {
   "cell_type": "code",
   "execution_count": 484,
   "metadata": {},
   "outputs": [],
   "source": [
    "from sklearn.model_selection import train_test_split\n",
    "from sklearn.naive_bayes import  GaussianNB\n",
    "\n"
   ]
  },
  {
   "cell_type": "code",
   "execution_count": 485,
   "metadata": {},
   "outputs": [],
   "source": [
    "y_base = y_base.ravel()"
   ]
  },
  {
   "cell_type": "code",
   "execution_count": null,
   "metadata": {},
   "outputs": [],
   "source": []
  },
  {
   "cell_type": "code",
   "execution_count": 486,
   "metadata": {},
   "outputs": [
    {
     "data": {
      "text/html": [
       "<style>#sk-container-id-16 {\n",
       "  /* Definition of color scheme common for light and dark mode */\n",
       "  --sklearn-color-text: black;\n",
       "  --sklearn-color-line: gray;\n",
       "  /* Definition of color scheme for unfitted estimators */\n",
       "  --sklearn-color-unfitted-level-0: #fff5e6;\n",
       "  --sklearn-color-unfitted-level-1: #f6e4d2;\n",
       "  --sklearn-color-unfitted-level-2: #ffe0b3;\n",
       "  --sklearn-color-unfitted-level-3: chocolate;\n",
       "  /* Definition of color scheme for fitted estimators */\n",
       "  --sklearn-color-fitted-level-0: #f0f8ff;\n",
       "  --sklearn-color-fitted-level-1: #d4ebff;\n",
       "  --sklearn-color-fitted-level-2: #b3dbfd;\n",
       "  --sklearn-color-fitted-level-3: cornflowerblue;\n",
       "\n",
       "  /* Specific color for light theme */\n",
       "  --sklearn-color-text-on-default-background: var(--sg-text-color, var(--theme-code-foreground, var(--jp-content-font-color1, black)));\n",
       "  --sklearn-color-background: var(--sg-background-color, var(--theme-background, var(--jp-layout-color0, white)));\n",
       "  --sklearn-color-border-box: var(--sg-text-color, var(--theme-code-foreground, var(--jp-content-font-color1, black)));\n",
       "  --sklearn-color-icon: #696969;\n",
       "\n",
       "  @media (prefers-color-scheme: dark) {\n",
       "    /* Redefinition of color scheme for dark theme */\n",
       "    --sklearn-color-text-on-default-background: var(--sg-text-color, var(--theme-code-foreground, var(--jp-content-font-color1, white)));\n",
       "    --sklearn-color-background: var(--sg-background-color, var(--theme-background, var(--jp-layout-color0, #111)));\n",
       "    --sklearn-color-border-box: var(--sg-text-color, var(--theme-code-foreground, var(--jp-content-font-color1, white)));\n",
       "    --sklearn-color-icon: #878787;\n",
       "  }\n",
       "}\n",
       "\n",
       "#sk-container-id-16 {\n",
       "  color: var(--sklearn-color-text);\n",
       "}\n",
       "\n",
       "#sk-container-id-16 pre {\n",
       "  padding: 0;\n",
       "}\n",
       "\n",
       "#sk-container-id-16 input.sk-hidden--visually {\n",
       "  border: 0;\n",
       "  clip: rect(1px 1px 1px 1px);\n",
       "  clip: rect(1px, 1px, 1px, 1px);\n",
       "  height: 1px;\n",
       "  margin: -1px;\n",
       "  overflow: hidden;\n",
       "  padding: 0;\n",
       "  position: absolute;\n",
       "  width: 1px;\n",
       "}\n",
       "\n",
       "#sk-container-id-16 div.sk-dashed-wrapped {\n",
       "  border: 1px dashed var(--sklearn-color-line);\n",
       "  margin: 0 0.4em 0.5em 0.4em;\n",
       "  box-sizing: border-box;\n",
       "  padding-bottom: 0.4em;\n",
       "  background-color: var(--sklearn-color-background);\n",
       "}\n",
       "\n",
       "#sk-container-id-16 div.sk-container {\n",
       "  /* jupyter's `normalize.less` sets `[hidden] { display: none; }`\n",
       "     but bootstrap.min.css set `[hidden] { display: none !important; }`\n",
       "     so we also need the `!important` here to be able to override the\n",
       "     default hidden behavior on the sphinx rendered scikit-learn.org.\n",
       "     See: https://github.com/scikit-learn/scikit-learn/issues/21755 */\n",
       "  display: inline-block !important;\n",
       "  position: relative;\n",
       "}\n",
       "\n",
       "#sk-container-id-16 div.sk-text-repr-fallback {\n",
       "  display: none;\n",
       "}\n",
       "\n",
       "div.sk-parallel-item,\n",
       "div.sk-serial,\n",
       "div.sk-item {\n",
       "  /* draw centered vertical line to link estimators */\n",
       "  background-image: linear-gradient(var(--sklearn-color-text-on-default-background), var(--sklearn-color-text-on-default-background));\n",
       "  background-size: 2px 100%;\n",
       "  background-repeat: no-repeat;\n",
       "  background-position: center center;\n",
       "}\n",
       "\n",
       "/* Parallel-specific style estimator block */\n",
       "\n",
       "#sk-container-id-16 div.sk-parallel-item::after {\n",
       "  content: \"\";\n",
       "  width: 100%;\n",
       "  border-bottom: 2px solid var(--sklearn-color-text-on-default-background);\n",
       "  flex-grow: 1;\n",
       "}\n",
       "\n",
       "#sk-container-id-16 div.sk-parallel {\n",
       "  display: flex;\n",
       "  align-items: stretch;\n",
       "  justify-content: center;\n",
       "  background-color: var(--sklearn-color-background);\n",
       "  position: relative;\n",
       "}\n",
       "\n",
       "#sk-container-id-16 div.sk-parallel-item {\n",
       "  display: flex;\n",
       "  flex-direction: column;\n",
       "}\n",
       "\n",
       "#sk-container-id-16 div.sk-parallel-item:first-child::after {\n",
       "  align-self: flex-end;\n",
       "  width: 50%;\n",
       "}\n",
       "\n",
       "#sk-container-id-16 div.sk-parallel-item:last-child::after {\n",
       "  align-self: flex-start;\n",
       "  width: 50%;\n",
       "}\n",
       "\n",
       "#sk-container-id-16 div.sk-parallel-item:only-child::after {\n",
       "  width: 0;\n",
       "}\n",
       "\n",
       "/* Serial-specific style estimator block */\n",
       "\n",
       "#sk-container-id-16 div.sk-serial {\n",
       "  display: flex;\n",
       "  flex-direction: column;\n",
       "  align-items: center;\n",
       "  background-color: var(--sklearn-color-background);\n",
       "  padding-right: 1em;\n",
       "  padding-left: 1em;\n",
       "}\n",
       "\n",
       "\n",
       "/* Toggleable style: style used for estimator/Pipeline/ColumnTransformer box that is\n",
       "clickable and can be expanded/collapsed.\n",
       "- Pipeline and ColumnTransformer use this feature and define the default style\n",
       "- Estimators will overwrite some part of the style using the `sk-estimator` class\n",
       "*/\n",
       "\n",
       "/* Pipeline and ColumnTransformer style (default) */\n",
       "\n",
       "#sk-container-id-16 div.sk-toggleable {\n",
       "  /* Default theme specific background. It is overwritten whether we have a\n",
       "  specific estimator or a Pipeline/ColumnTransformer */\n",
       "  background-color: var(--sklearn-color-background);\n",
       "}\n",
       "\n",
       "/* Toggleable label */\n",
       "#sk-container-id-16 label.sk-toggleable__label {\n",
       "  cursor: pointer;\n",
       "  display: block;\n",
       "  width: 100%;\n",
       "  margin-bottom: 0;\n",
       "  padding: 0.5em;\n",
       "  box-sizing: border-box;\n",
       "  text-align: center;\n",
       "}\n",
       "\n",
       "#sk-container-id-16 label.sk-toggleable__label-arrow:before {\n",
       "  /* Arrow on the left of the label */\n",
       "  content: \"▸\";\n",
       "  float: left;\n",
       "  margin-right: 0.25em;\n",
       "  color: var(--sklearn-color-icon);\n",
       "}\n",
       "\n",
       "#sk-container-id-16 label.sk-toggleable__label-arrow:hover:before {\n",
       "  color: var(--sklearn-color-text);\n",
       "}\n",
       "\n",
       "/* Toggleable content - dropdown */\n",
       "\n",
       "#sk-container-id-16 div.sk-toggleable__content {\n",
       "  max-height: 0;\n",
       "  max-width: 0;\n",
       "  overflow: hidden;\n",
       "  text-align: left;\n",
       "  /* unfitted */\n",
       "  background-color: var(--sklearn-color-unfitted-level-0);\n",
       "}\n",
       "\n",
       "#sk-container-id-16 div.sk-toggleable__content.fitted {\n",
       "  /* fitted */\n",
       "  background-color: var(--sklearn-color-fitted-level-0);\n",
       "}\n",
       "\n",
       "#sk-container-id-16 div.sk-toggleable__content pre {\n",
       "  margin: 0.2em;\n",
       "  border-radius: 0.25em;\n",
       "  color: var(--sklearn-color-text);\n",
       "  /* unfitted */\n",
       "  background-color: var(--sklearn-color-unfitted-level-0);\n",
       "}\n",
       "\n",
       "#sk-container-id-16 div.sk-toggleable__content.fitted pre {\n",
       "  /* unfitted */\n",
       "  background-color: var(--sklearn-color-fitted-level-0);\n",
       "}\n",
       "\n",
       "#sk-container-id-16 input.sk-toggleable__control:checked~div.sk-toggleable__content {\n",
       "  /* Expand drop-down */\n",
       "  max-height: 200px;\n",
       "  max-width: 100%;\n",
       "  overflow: auto;\n",
       "}\n",
       "\n",
       "#sk-container-id-16 input.sk-toggleable__control:checked~label.sk-toggleable__label-arrow:before {\n",
       "  content: \"▾\";\n",
       "}\n",
       "\n",
       "/* Pipeline/ColumnTransformer-specific style */\n",
       "\n",
       "#sk-container-id-16 div.sk-label input.sk-toggleable__control:checked~label.sk-toggleable__label {\n",
       "  color: var(--sklearn-color-text);\n",
       "  background-color: var(--sklearn-color-unfitted-level-2);\n",
       "}\n",
       "\n",
       "#sk-container-id-16 div.sk-label.fitted input.sk-toggleable__control:checked~label.sk-toggleable__label {\n",
       "  background-color: var(--sklearn-color-fitted-level-2);\n",
       "}\n",
       "\n",
       "/* Estimator-specific style */\n",
       "\n",
       "/* Colorize estimator box */\n",
       "#sk-container-id-16 div.sk-estimator input.sk-toggleable__control:checked~label.sk-toggleable__label {\n",
       "  /* unfitted */\n",
       "  background-color: var(--sklearn-color-unfitted-level-2);\n",
       "}\n",
       "\n",
       "#sk-container-id-16 div.sk-estimator.fitted input.sk-toggleable__control:checked~label.sk-toggleable__label {\n",
       "  /* fitted */\n",
       "  background-color: var(--sklearn-color-fitted-level-2);\n",
       "}\n",
       "\n",
       "#sk-container-id-16 div.sk-label label.sk-toggleable__label,\n",
       "#sk-container-id-16 div.sk-label label {\n",
       "  /* The background is the default theme color */\n",
       "  color: var(--sklearn-color-text-on-default-background);\n",
       "}\n",
       "\n",
       "/* On hover, darken the color of the background */\n",
       "#sk-container-id-16 div.sk-label:hover label.sk-toggleable__label {\n",
       "  color: var(--sklearn-color-text);\n",
       "  background-color: var(--sklearn-color-unfitted-level-2);\n",
       "}\n",
       "\n",
       "/* Label box, darken color on hover, fitted */\n",
       "#sk-container-id-16 div.sk-label.fitted:hover label.sk-toggleable__label.fitted {\n",
       "  color: var(--sklearn-color-text);\n",
       "  background-color: var(--sklearn-color-fitted-level-2);\n",
       "}\n",
       "\n",
       "/* Estimator label */\n",
       "\n",
       "#sk-container-id-16 div.sk-label label {\n",
       "  font-family: monospace;\n",
       "  font-weight: bold;\n",
       "  display: inline-block;\n",
       "  line-height: 1.2em;\n",
       "}\n",
       "\n",
       "#sk-container-id-16 div.sk-label-container {\n",
       "  text-align: center;\n",
       "}\n",
       "\n",
       "/* Estimator-specific */\n",
       "#sk-container-id-16 div.sk-estimator {\n",
       "  font-family: monospace;\n",
       "  border: 1px dotted var(--sklearn-color-border-box);\n",
       "  border-radius: 0.25em;\n",
       "  box-sizing: border-box;\n",
       "  margin-bottom: 0.5em;\n",
       "  /* unfitted */\n",
       "  background-color: var(--sklearn-color-unfitted-level-0);\n",
       "}\n",
       "\n",
       "#sk-container-id-16 div.sk-estimator.fitted {\n",
       "  /* fitted */\n",
       "  background-color: var(--sklearn-color-fitted-level-0);\n",
       "}\n",
       "\n",
       "/* on hover */\n",
       "#sk-container-id-16 div.sk-estimator:hover {\n",
       "  /* unfitted */\n",
       "  background-color: var(--sklearn-color-unfitted-level-2);\n",
       "}\n",
       "\n",
       "#sk-container-id-16 div.sk-estimator.fitted:hover {\n",
       "  /* fitted */\n",
       "  background-color: var(--sklearn-color-fitted-level-2);\n",
       "}\n",
       "\n",
       "/* Specification for estimator info (e.g. \"i\" and \"?\") */\n",
       "\n",
       "/* Common style for \"i\" and \"?\" */\n",
       "\n",
       ".sk-estimator-doc-link,\n",
       "a:link.sk-estimator-doc-link,\n",
       "a:visited.sk-estimator-doc-link {\n",
       "  float: right;\n",
       "  font-size: smaller;\n",
       "  line-height: 1em;\n",
       "  font-family: monospace;\n",
       "  background-color: var(--sklearn-color-background);\n",
       "  border-radius: 1em;\n",
       "  height: 1em;\n",
       "  width: 1em;\n",
       "  text-decoration: none !important;\n",
       "  margin-left: 1ex;\n",
       "  /* unfitted */\n",
       "  border: var(--sklearn-color-unfitted-level-1) 1pt solid;\n",
       "  color: var(--sklearn-color-unfitted-level-1);\n",
       "}\n",
       "\n",
       ".sk-estimator-doc-link.fitted,\n",
       "a:link.sk-estimator-doc-link.fitted,\n",
       "a:visited.sk-estimator-doc-link.fitted {\n",
       "  /* fitted */\n",
       "  border: var(--sklearn-color-fitted-level-1) 1pt solid;\n",
       "  color: var(--sklearn-color-fitted-level-1);\n",
       "}\n",
       "\n",
       "/* On hover */\n",
       "div.sk-estimator:hover .sk-estimator-doc-link:hover,\n",
       ".sk-estimator-doc-link:hover,\n",
       "div.sk-label-container:hover .sk-estimator-doc-link:hover,\n",
       ".sk-estimator-doc-link:hover {\n",
       "  /* unfitted */\n",
       "  background-color: var(--sklearn-color-unfitted-level-3);\n",
       "  color: var(--sklearn-color-background);\n",
       "  text-decoration: none;\n",
       "}\n",
       "\n",
       "div.sk-estimator.fitted:hover .sk-estimator-doc-link.fitted:hover,\n",
       ".sk-estimator-doc-link.fitted:hover,\n",
       "div.sk-label-container:hover .sk-estimator-doc-link.fitted:hover,\n",
       ".sk-estimator-doc-link.fitted:hover {\n",
       "  /* fitted */\n",
       "  background-color: var(--sklearn-color-fitted-level-3);\n",
       "  color: var(--sklearn-color-background);\n",
       "  text-decoration: none;\n",
       "}\n",
       "\n",
       "/* Span, style for the box shown on hovering the info icon */\n",
       ".sk-estimator-doc-link span {\n",
       "  display: none;\n",
       "  z-index: 9999;\n",
       "  position: relative;\n",
       "  font-weight: normal;\n",
       "  right: .2ex;\n",
       "  padding: .5ex;\n",
       "  margin: .5ex;\n",
       "  width: min-content;\n",
       "  min-width: 20ex;\n",
       "  max-width: 50ex;\n",
       "  color: var(--sklearn-color-text);\n",
       "  box-shadow: 2pt 2pt 4pt #999;\n",
       "  /* unfitted */\n",
       "  background: var(--sklearn-color-unfitted-level-0);\n",
       "  border: .5pt solid var(--sklearn-color-unfitted-level-3);\n",
       "}\n",
       "\n",
       ".sk-estimator-doc-link.fitted span {\n",
       "  /* fitted */\n",
       "  background: var(--sklearn-color-fitted-level-0);\n",
       "  border: var(--sklearn-color-fitted-level-3);\n",
       "}\n",
       "\n",
       ".sk-estimator-doc-link:hover span {\n",
       "  display: block;\n",
       "}\n",
       "\n",
       "/* \"?\"-specific style due to the `<a>` HTML tag */\n",
       "\n",
       "#sk-container-id-16 a.estimator_doc_link {\n",
       "  float: right;\n",
       "  font-size: 1rem;\n",
       "  line-height: 1em;\n",
       "  font-family: monospace;\n",
       "  background-color: var(--sklearn-color-background);\n",
       "  border-radius: 1rem;\n",
       "  height: 1rem;\n",
       "  width: 1rem;\n",
       "  text-decoration: none;\n",
       "  /* unfitted */\n",
       "  color: var(--sklearn-color-unfitted-level-1);\n",
       "  border: var(--sklearn-color-unfitted-level-1) 1pt solid;\n",
       "}\n",
       "\n",
       "#sk-container-id-16 a.estimator_doc_link.fitted {\n",
       "  /* fitted */\n",
       "  border: var(--sklearn-color-fitted-level-1) 1pt solid;\n",
       "  color: var(--sklearn-color-fitted-level-1);\n",
       "}\n",
       "\n",
       "/* On hover */\n",
       "#sk-container-id-16 a.estimator_doc_link:hover {\n",
       "  /* unfitted */\n",
       "  background-color: var(--sklearn-color-unfitted-level-3);\n",
       "  color: var(--sklearn-color-background);\n",
       "  text-decoration: none;\n",
       "}\n",
       "\n",
       "#sk-container-id-16 a.estimator_doc_link.fitted:hover {\n",
       "  /* fitted */\n",
       "  background-color: var(--sklearn-color-fitted-level-3);\n",
       "}\n",
       "</style><div id=\"sk-container-id-16\" class=\"sk-top-container\"><div class=\"sk-text-repr-fallback\"><pre>GaussianNB()</pre><b>In a Jupyter environment, please rerun this cell to show the HTML representation or trust the notebook. <br />On GitHub, the HTML representation is unable to render, please try loading this page with nbviewer.org.</b></div><div class=\"sk-container\" hidden><div class=\"sk-item\"><div class=\"sk-estimator fitted sk-toggleable\"><input class=\"sk-toggleable__control sk-hidden--visually\" id=\"sk-estimator-id-16\" type=\"checkbox\" checked><label for=\"sk-estimator-id-16\" class=\"sk-toggleable__label fitted sk-toggleable__label-arrow fitted\">&nbsp;&nbsp;GaussianNB<a class=\"sk-estimator-doc-link fitted\" rel=\"noreferrer\" target=\"_blank\" href=\"https://scikit-learn.org/1.4/modules/generated/sklearn.naive_bayes.GaussianNB.html\">?<span>Documentation for GaussianNB</span></a><span class=\"sk-estimator-doc-link fitted\">i<span>Fitted</span></span></label><div class=\"sk-toggleable__content fitted\"><pre>GaussianNB()</pre></div> </div></div></div></div>"
      ],
      "text/plain": [
       "GaussianNB()"
      ]
     },
     "execution_count": 486,
     "metadata": {},
     "output_type": "execute_result"
    }
   ],
   "source": [
    "naive_credit = GaussianNB()\n",
    "naive_credit.fit(x_base, y_base)"
   ]
  },
  {
   "cell_type": "code",
   "execution_count": 487,
   "metadata": {},
   "outputs": [
    {
     "name": "stdout",
     "output_type": "stream",
     "text": [
      "A matriz é 1D.\n"
     ]
    }
   ],
   "source": [
    "if y_base.ndim == 1:\n",
    "    print(\"A matriz é 1D.\")\n",
    "else:\n",
    "    print(\"A matriz não é 1D.\")"
   ]
  },
  {
   "cell_type": "code",
   "execution_count": 488,
   "metadata": {},
   "outputs": [
    {
     "name": "stdout",
     "output_type": "stream",
     "text": [
      "A matriz não é 1D.\n"
     ]
    }
   ],
   "source": [
    "if x_base.ndim == 1:\n",
    "    print(\"A matriz é 1D.\")\n",
    "else:\n",
    "    print(\"A matriz não é 1D.\")"
   ]
  },
  {
   "cell_type": "code",
   "execution_count": 489,
   "metadata": {},
   "outputs": [
    {
     "name": "stdout",
     "output_type": "stream",
     "text": [
      "['bad']\n"
     ]
    }
   ],
   "source": [
    "dados_previsao = [[1.0, 0.0, 0.0, 1.0, 0.0, 1.0, 0.0, 0.0, 0.0, 0.0, 1.0, 0.0, 0.0, 0.0, 0.0, 0.0, 0.0, 1.0, 0.0, 0.0, 22, 2, 5951, 48]] \n",
    "\n",
    "# Converta a lista em uma matriz 2D usando numpy\n",
    "dados_previsao_2d = np.array(dados_previsao)\n",
    "\n",
    "# Faça a previsão com o modelo treinado\n",
    "previsao = naive_credit.predict(dados_previsao_2d)\n",
    "print(previsao)"
   ]
  },
  {
   "cell_type": "code",
   "execution_count": 499,
   "metadata": {},
   "outputs": [
    {
     "data": {
      "text/plain": [
       "array(['bad', 'bad', 'bad', 'bad', 'bad', 'bad', 'bad', 'good', 'good',\n",
       "       'bad', 'good', 'bad', 'good', 'bad', 'good', 'good', 'good',\n",
       "       'good', 'bad', 'good', 'good', 'good', 'good', 'bad', 'good',\n",
       "       'good', 'good', 'good', 'good', 'bad', 'bad', 'good', 'bad', 'bad',\n",
       "       'good', 'bad', 'good', 'bad', 'bad', 'good', 'bad', 'bad', 'bad',\n",
       "       'bad', 'good', 'good', 'good', 'good', 'good', 'bad', 'good',\n",
       "       'good', 'good', 'good', 'bad', 'good', 'good', 'bad', 'good',\n",
       "       'bad', 'good', 'good', 'good', 'bad', 'bad', 'good', 'good',\n",
       "       'good', 'good', 'good', 'good', 'good', 'good', 'good', 'bad',\n",
       "       'bad', 'good', 'good', 'good', 'bad', 'good', 'good', 'bad', 'bad',\n",
       "       'bad', 'good', 'good', 'bad', 'bad', 'good', 'bad', 'good', 'bad',\n",
       "       'good', 'good', 'good', 'bad', 'good', 'good', 'bad', 'good',\n",
       "       'good', 'good', 'bad', 'good', 'bad', 'bad', 'good', 'good', 'bad',\n",
       "       'good', 'bad', 'bad', 'bad', 'good', 'good', 'bad', 'bad', 'bad',\n",
       "       'bad', 'bad', 'good', 'good', 'good', 'bad', 'good', 'good', 'bad',\n",
       "       'bad', 'good', 'good', 'good', 'good', 'good', 'bad', 'good',\n",
       "       'good', 'good', 'bad', 'bad', 'good', 'good', 'bad', 'good', 'bad',\n",
       "       'bad', 'bad', 'good', 'bad', 'bad', 'bad', 'good', 'good', 'bad',\n",
       "       'bad', 'good', 'bad', 'good', 'bad', 'good', 'good', 'good', 'bad',\n",
       "       'good', 'good', 'bad', 'good', 'good', 'bad', 'good', 'bad',\n",
       "       'good', 'good', 'good', 'good', 'bad', 'bad', 'bad', 'bad', 'good',\n",
       "       'good', 'good', 'bad', 'bad', 'good', 'good', 'good', 'good',\n",
       "       'good', 'good', 'good', 'bad', 'good', 'bad', 'good', 'good',\n",
       "       'bad', 'bad', 'bad', 'bad', 'bad', 'bad', 'bad', 'good', 'bad',\n",
       "       'good', 'good', 'bad', 'good', 'bad', 'bad', 'bad', 'bad', 'good',\n",
       "       'good', 'good', 'good', 'good', 'good', 'bad', 'bad', 'bad', 'bad',\n",
       "       'good', 'bad', 'good', 'good', 'good', 'bad', 'bad', 'good',\n",
       "       'good', 'bad', 'bad', 'bad', 'bad', 'bad', 'good', 'bad', 'good',\n",
       "       'bad', 'good', 'bad', 'good', 'good', 'bad', 'good', 'good',\n",
       "       'good', 'good', 'good', 'good', 'good', 'bad', 'bad', 'bad',\n",
       "       'good', 'good', 'bad', 'bad', 'good', 'good', 'bad', 'good', 'bad',\n",
       "       'good', 'good', 'good', 'bad', 'good', 'good', 'good', 'bad',\n",
       "       'good', 'bad', 'bad', 'good', 'bad', 'bad', 'bad', 'good', 'bad',\n",
       "       'good', 'good', 'good', 'bad', 'good', 'bad', 'good', 'bad',\n",
       "       'good', 'good', 'good', 'good', 'bad', 'good', 'bad', 'good',\n",
       "       'bad', 'bad', 'bad', 'good', 'good', 'bad', 'good', 'good', 'bad',\n",
       "       'bad', 'bad', 'good', 'bad', 'good', 'good', 'bad', 'good', 'bad',\n",
       "       'good', 'good', 'good', 'bad', 'good', 'good', 'bad', 'bad',\n",
       "       'good', 'good', 'bad', 'bad', 'bad', 'good', 'bad', 'bad', 'good',\n",
       "       'good', 'bad', 'good', 'good', 'bad', 'bad', 'good', 'good', 'bad',\n",
       "       'good', 'bad', 'bad', 'good', 'good', 'bad', 'bad', 'good', 'bad',\n",
       "       'good', 'good', 'good', 'bad', 'good', 'bad', 'good', 'bad',\n",
       "       'good', 'bad', 'bad', 'good', 'good', 'good', 'good', 'good',\n",
       "       'bad', 'bad', 'good', 'good', 'bad', 'bad', 'bad', 'good', 'good',\n",
       "       'bad', 'good', 'bad', 'good', 'good', 'good', 'good', 'good',\n",
       "       'bad', 'bad', 'good', 'good', 'bad', 'good', 'bad', 'good', 'bad',\n",
       "       'good', 'good', 'good', 'good', 'bad', 'good', 'good', 'bad',\n",
       "       'bad', 'good', 'good', 'bad', 'good', 'good', 'good', 'bad', 'bad',\n",
       "       'good', 'good', 'good', 'bad', 'bad', 'good', 'good', 'bad', 'bad',\n",
       "       'good', 'good', 'bad', 'bad', 'bad', 'good', 'bad', 'bad', 'good',\n",
       "       'good', 'bad', 'bad', 'bad', 'bad', 'bad', 'good', 'good', 'bad',\n",
       "       'good', 'good', 'bad', 'bad', 'bad', 'good', 'good', 'good', 'bad',\n",
       "       'good', 'good', 'bad', 'bad', 'bad', 'good', 'good', 'bad', 'good',\n",
       "       'good', 'good', 'good', 'bad', 'bad', 'good', 'bad', 'bad', 'bad',\n",
       "       'good', 'bad', 'bad', 'good', 'bad', 'bad', 'bad', 'bad', 'bad',\n",
       "       'bad', 'good', 'bad', 'bad', 'bad', 'bad', 'good', 'bad', 'bad',\n",
       "       'good', 'good', 'good', 'good', 'good', 'good', 'good', 'bad',\n",
       "       'bad', 'good', 'good', 'good', 'bad', 'good', 'bad', 'good',\n",
       "       'good', 'bad', 'bad', 'good', 'good', 'good', 'good', 'good',\n",
       "       'bad', 'bad', 'good', 'good', 'bad', 'bad', 'good', 'bad', 'bad',\n",
       "       'good', 'bad', 'good', 'bad', 'bad', 'bad', 'bad'], dtype='<U4')"
      ]
     },
     "execution_count": 499,
     "metadata": {},
     "output_type": "execute_result"
    }
   ],
   "source": [
    "from sklearn.metrics import precision_score\n",
    "previsoes = naive_credit.predict(x_base)\n",
    "previsoes"
   ]
  },
  {
   "cell_type": "code",
   "execution_count": 500,
   "metadata": {},
   "outputs": [
    {
     "data": {
      "text/plain": [
       "array(['bad', 'good', 'bad', 'good', 'bad', 'bad', 'bad', 'good', 'bad',\n",
       "       'good', 'bad', 'bad', 'good', 'good', 'good', 'good', 'good',\n",
       "       'good', 'bad', 'good', 'good', 'good', 'good', 'bad', 'bad',\n",
       "       'good', 'good', 'good', 'good', 'good', 'bad', 'good', 'good',\n",
       "       'bad', 'good', 'bad', 'good', 'bad', 'bad', 'good', 'good', 'good',\n",
       "       'good', 'bad', 'good', 'good', 'good', 'good', 'good', 'bad',\n",
       "       'good', 'bad', 'good', 'good', 'bad', 'good', 'good', 'good',\n",
       "       'good', 'bad', 'good', 'good', 'good', 'good', 'good', 'good',\n",
       "       'bad', 'good', 'bad', 'good', 'good', 'good', 'bad', 'good', 'bad',\n",
       "       'bad', 'bad', 'good', 'good', 'good', 'good', 'bad', 'good',\n",
       "       'good', 'good', 'good', 'good', 'good', 'bad', 'good', 'good',\n",
       "       'good', 'good', 'bad', 'good', 'bad', 'bad', 'bad', 'good', 'bad',\n",
       "       'good', 'good', 'good', 'bad', 'bad', 'bad', 'good', 'bad', 'good',\n",
       "       'bad', 'bad', 'bad', 'bad', 'bad', 'bad', 'good', 'bad', 'good',\n",
       "       'good', 'good', 'bad', 'bad', 'good', 'good', 'good', 'good',\n",
       "       'bad', 'bad', 'good', 'bad', 'good', 'bad', 'bad', 'good', 'bad',\n",
       "       'good', 'good', 'good', 'bad', 'bad', 'good', 'good', 'good',\n",
       "       'bad', 'bad', 'bad', 'bad', 'good', 'good', 'good', 'good', 'good',\n",
       "       'bad', 'bad', 'good', 'good', 'bad', 'good', 'bad', 'good', 'bad',\n",
       "       'bad', 'good', 'good', 'bad', 'bad', 'good', 'good', 'bad', 'bad',\n",
       "       'good', 'good', 'good', 'good', 'good', 'good', 'bad', 'bad',\n",
       "       'bad', 'good', 'good', 'good', 'good', 'good', 'good', 'good',\n",
       "       'good', 'good', 'good', 'bad', 'bad', 'bad', 'bad', 'bad', 'good',\n",
       "       'bad', 'good', 'bad', 'good', 'bad', 'bad', 'bad', 'bad', 'good',\n",
       "       'good', 'good', 'good', 'good', 'good', 'good', 'good', 'good',\n",
       "       'bad', 'bad', 'good', 'bad', 'good', 'bad', 'good', 'good', 'bad',\n",
       "       'bad', 'good', 'good', 'good', 'bad', 'good', 'good', 'bad', 'bad',\n",
       "       'good', 'bad', 'bad', 'good', 'bad', 'good', 'good', 'good',\n",
       "       'good', 'good', 'bad', 'bad', 'bad', 'bad', 'bad', 'bad', 'good',\n",
       "       'good', 'good', 'good', 'good', 'good', 'bad', 'bad', 'good',\n",
       "       'bad', 'good', 'good', 'bad', 'good', 'good', 'bad', 'bad', 'good',\n",
       "       'bad', 'bad', 'good', 'good', 'good', 'good', 'good', 'bad', 'bad',\n",
       "       'good', 'good', 'bad', 'good', 'good', 'bad', 'bad', 'good', 'bad',\n",
       "       'good', 'bad', 'bad', 'bad', 'bad', 'bad', 'good', 'good', 'bad',\n",
       "       'bad', 'bad', 'bad', 'bad', 'good', 'good', 'bad', 'bad', 'bad',\n",
       "       'good', 'good', 'good', 'bad', 'bad', 'good', 'bad', 'bad', 'good',\n",
       "       'good', 'bad', 'bad', 'good', 'bad', 'bad', 'bad', 'bad', 'good',\n",
       "       'bad', 'bad', 'good', 'good', 'bad', 'bad', 'bad', 'good', 'good',\n",
       "       'good', 'bad', 'good', 'good', 'bad', 'good', 'bad', 'good', 'bad',\n",
       "       'bad', 'bad', 'bad', 'good', 'good', 'good', 'bad', 'bad', 'good',\n",
       "       'bad', 'bad', 'bad', 'good', 'bad', 'good', 'good', 'good', 'good',\n",
       "       'good', 'good', 'bad', 'good', 'bad', 'good', 'good', 'good',\n",
       "       'good', 'good', 'good', 'good', 'good', 'good', 'bad', 'good',\n",
       "       'good', 'good', 'bad', 'bad', 'good', 'good', 'bad', 'good', 'bad',\n",
       "       'good', 'bad', 'bad', 'bad', 'good', 'bad', 'bad', 'good', 'good',\n",
       "       'bad', 'good', 'bad', 'good', 'bad', 'good', 'good', 'good',\n",
       "       'good', 'good', 'bad', 'good', 'bad', 'good', 'good', 'bad', 'bad',\n",
       "       'good', 'good', 'bad', 'good', 'bad', 'good', 'good', 'good',\n",
       "       'bad', 'good', 'bad', 'good', 'bad', 'bad', 'bad', 'good', 'good',\n",
       "       'good', 'bad', 'good', 'good', 'bad', 'good', 'good', 'bad', 'bad',\n",
       "       'bad', 'good', 'good', 'bad', 'good', 'bad', 'good', 'good', 'bad',\n",
       "       'bad', 'bad', 'bad', 'bad', 'good', 'bad', 'good', 'bad', 'bad',\n",
       "       'bad', 'bad', 'bad', 'good', 'good', 'good', 'good', 'good',\n",
       "       'good', 'good', 'bad', 'bad', 'bad', 'bad', 'good', 'good', 'good',\n",
       "       'good', 'bad', 'bad', 'good', 'bad', 'bad', 'bad', 'bad', 'bad',\n",
       "       'bad', 'bad', 'good', 'bad', 'bad', 'good', 'bad', 'good', 'good',\n",
       "       'bad', 'good', 'bad', 'bad', 'good', 'bad', 'good', 'good', 'bad',\n",
       "       'good', 'bad', 'bad', 'good', 'good', 'good', 'bad', 'good',\n",
       "       'good', 'good', 'bad', 'good', 'good', 'bad', 'bad', 'good',\n",
       "       'good', 'bad', 'bad', 'good', 'bad', 'good', 'good', 'good',\n",
       "       'good', 'good', 'good', 'bad', 'good'], dtype=object)"
      ]
     },
     "execution_count": 500,
     "metadata": {},
     "output_type": "execute_result"
    }
   ],
   "source": [
    "y_base"
   ]
  },
  {
   "cell_type": "code",
   "execution_count": 501,
   "metadata": {},
   "outputs": [
    {
     "data": {
      "text/plain": [
       "0.6494252873563219"
      ]
     },
     "execution_count": 501,
     "metadata": {},
     "output_type": "execute_result"
    }
   ],
   "source": [
    "from sklearn.metrics import accuracy_score\n",
    "accuracy_score(y_base, previsoes)"
   ]
  },
  {
   "cell_type": "code",
   "execution_count": 502,
   "metadata": {},
   "outputs": [
    {
     "data": {
      "text/html": [
       "<div>\n",
       "<style scoped>\n",
       "    .dataframe tbody tr th:only-of-type {\n",
       "        vertical-align: middle;\n",
       "    }\n",
       "\n",
       "    .dataframe tbody tr th {\n",
       "        vertical-align: top;\n",
       "    }\n",
       "\n",
       "    .dataframe thead th {\n",
       "        text-align: right;\n",
       "    }\n",
       "</style>\n",
       "<table border=\"1\" class=\"dataframe\">\n",
       "  <thead>\n",
       "    <tr style=\"text-align: right;\">\n",
       "      <th></th>\n",
       "      <th>Unnamed: 0</th>\n",
       "      <th>Age</th>\n",
       "      <th>Sex</th>\n",
       "      <th>Job</th>\n",
       "      <th>Housing</th>\n",
       "      <th>Saving accounts</th>\n",
       "      <th>Checking account</th>\n",
       "      <th>Credit amount</th>\n",
       "      <th>Duration</th>\n",
       "      <th>Purpose</th>\n",
       "      <th>Risk</th>\n",
       "    </tr>\n",
       "  </thead>\n",
       "  <tbody>\n",
       "    <tr>\n",
       "      <th>1</th>\n",
       "      <td>1</td>\n",
       "      <td>22</td>\n",
       "      <td>female</td>\n",
       "      <td>2</td>\n",
       "      <td>own</td>\n",
       "      <td>little</td>\n",
       "      <td>moderate</td>\n",
       "      <td>5951</td>\n",
       "      <td>48</td>\n",
       "      <td>radio/TV</td>\n",
       "      <td>bad</td>\n",
       "    </tr>\n",
       "    <tr>\n",
       "      <th>3</th>\n",
       "      <td>3</td>\n",
       "      <td>45</td>\n",
       "      <td>male</td>\n",
       "      <td>2</td>\n",
       "      <td>free</td>\n",
       "      <td>little</td>\n",
       "      <td>little</td>\n",
       "      <td>7882</td>\n",
       "      <td>42</td>\n",
       "      <td>furniture/equipment</td>\n",
       "      <td>good</td>\n",
       "    </tr>\n",
       "    <tr>\n",
       "      <th>4</th>\n",
       "      <td>4</td>\n",
       "      <td>53</td>\n",
       "      <td>male</td>\n",
       "      <td>2</td>\n",
       "      <td>free</td>\n",
       "      <td>little</td>\n",
       "      <td>little</td>\n",
       "      <td>4870</td>\n",
       "      <td>24</td>\n",
       "      <td>car</td>\n",
       "      <td>bad</td>\n",
       "    </tr>\n",
       "    <tr>\n",
       "      <th>7</th>\n",
       "      <td>7</td>\n",
       "      <td>35</td>\n",
       "      <td>male</td>\n",
       "      <td>3</td>\n",
       "      <td>rent</td>\n",
       "      <td>little</td>\n",
       "      <td>moderate</td>\n",
       "      <td>6948</td>\n",
       "      <td>36</td>\n",
       "      <td>car</td>\n",
       "      <td>good</td>\n",
       "    </tr>\n",
       "    <tr>\n",
       "      <th>9</th>\n",
       "      <td>9</td>\n",
       "      <td>28</td>\n",
       "      <td>male</td>\n",
       "      <td>3</td>\n",
       "      <td>own</td>\n",
       "      <td>little</td>\n",
       "      <td>moderate</td>\n",
       "      <td>5234</td>\n",
       "      <td>30</td>\n",
       "      <td>car</td>\n",
       "      <td>bad</td>\n",
       "    </tr>\n",
       "    <tr>\n",
       "      <th>...</th>\n",
       "      <td>...</td>\n",
       "      <td>...</td>\n",
       "      <td>...</td>\n",
       "      <td>...</td>\n",
       "      <td>...</td>\n",
       "      <td>...</td>\n",
       "      <td>...</td>\n",
       "      <td>...</td>\n",
       "      <td>...</td>\n",
       "      <td>...</td>\n",
       "      <td>...</td>\n",
       "    </tr>\n",
       "    <tr>\n",
       "      <th>989</th>\n",
       "      <td>989</td>\n",
       "      <td>48</td>\n",
       "      <td>male</td>\n",
       "      <td>1</td>\n",
       "      <td>own</td>\n",
       "      <td>little</td>\n",
       "      <td>moderate</td>\n",
       "      <td>1743</td>\n",
       "      <td>24</td>\n",
       "      <td>radio/TV</td>\n",
       "      <td>good</td>\n",
       "    </tr>\n",
       "    <tr>\n",
       "      <th>993</th>\n",
       "      <td>993</td>\n",
       "      <td>30</td>\n",
       "      <td>male</td>\n",
       "      <td>3</td>\n",
       "      <td>own</td>\n",
       "      <td>little</td>\n",
       "      <td>little</td>\n",
       "      <td>3959</td>\n",
       "      <td>36</td>\n",
       "      <td>furniture/equipment</td>\n",
       "      <td>good</td>\n",
       "    </tr>\n",
       "    <tr>\n",
       "      <th>996</th>\n",
       "      <td>996</td>\n",
       "      <td>40</td>\n",
       "      <td>male</td>\n",
       "      <td>3</td>\n",
       "      <td>own</td>\n",
       "      <td>little</td>\n",
       "      <td>little</td>\n",
       "      <td>3857</td>\n",
       "      <td>30</td>\n",
       "      <td>car</td>\n",
       "      <td>good</td>\n",
       "    </tr>\n",
       "    <tr>\n",
       "      <th>998</th>\n",
       "      <td>998</td>\n",
       "      <td>23</td>\n",
       "      <td>male</td>\n",
       "      <td>2</td>\n",
       "      <td>free</td>\n",
       "      <td>little</td>\n",
       "      <td>little</td>\n",
       "      <td>1845</td>\n",
       "      <td>45</td>\n",
       "      <td>radio/TV</td>\n",
       "      <td>bad</td>\n",
       "    </tr>\n",
       "    <tr>\n",
       "      <th>999</th>\n",
       "      <td>999</td>\n",
       "      <td>27</td>\n",
       "      <td>male</td>\n",
       "      <td>2</td>\n",
       "      <td>own</td>\n",
       "      <td>moderate</td>\n",
       "      <td>moderate</td>\n",
       "      <td>4576</td>\n",
       "      <td>45</td>\n",
       "      <td>car</td>\n",
       "      <td>good</td>\n",
       "    </tr>\n",
       "  </tbody>\n",
       "</table>\n",
       "<p>522 rows × 11 columns</p>\n",
       "</div>"
      ],
      "text/plain": [
       "     Unnamed: 0  Age     Sex  Job Housing Saving accounts Checking account  \\\n",
       "1             1   22  female    2     own          little         moderate   \n",
       "3             3   45    male    2    free          little           little   \n",
       "4             4   53    male    2    free          little           little   \n",
       "7             7   35    male    3    rent          little         moderate   \n",
       "9             9   28    male    3     own          little         moderate   \n",
       "..          ...  ...     ...  ...     ...             ...              ...   \n",
       "989         989   48    male    1     own          little         moderate   \n",
       "993         993   30    male    3     own          little           little   \n",
       "996         996   40    male    3     own          little           little   \n",
       "998         998   23    male    2    free          little           little   \n",
       "999         999   27    male    2     own        moderate         moderate   \n",
       "\n",
       "     Credit amount  Duration              Purpose  Risk  \n",
       "1             5951        48             radio/TV   bad  \n",
       "3             7882        42  furniture/equipment  good  \n",
       "4             4870        24                  car   bad  \n",
       "7             6948        36                  car  good  \n",
       "9             5234        30                  car   bad  \n",
       "..             ...       ...                  ...   ...  \n",
       "989           1743        24             radio/TV  good  \n",
       "993           3959        36  furniture/equipment  good  \n",
       "996           3857        30                  car  good  \n",
       "998           1845        45             radio/TV   bad  \n",
       "999           4576        45                  car  good  \n",
       "\n",
       "[522 rows x 11 columns]"
      ]
     },
     "execution_count": 502,
     "metadata": {},
     "output_type": "execute_result"
    }
   ],
   "source": [
    "base"
   ]
  }
 ],
 "metadata": {
  "kernelspec": {
   "display_name": "Python 3",
   "language": "python",
   "name": "python3"
  },
  "language_info": {
   "codemirror_mode": {
    "name": "ipython",
    "version": 3
   },
   "file_extension": ".py",
   "mimetype": "text/x-python",
   "name": "python",
   "nbconvert_exporter": "python",
   "pygments_lexer": "ipython3",
   "version": "3.10.11"
  }
 },
 "nbformat": 4,
 "nbformat_minor": 2
}
